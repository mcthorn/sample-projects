{
 "cells": [
  {
   "cell_type": "markdown",
   "metadata": {},
   "source": [
    "\n",
    "\n",
    "The prime 41, can be written as the sum of six consecutive primes:\n",
    "41 = 2 + 3 + 5 + 7 + 11 + 13\n",
    "\n",
    "This is the longest sum of consecutive primes that adds to a prime below one-hundred.\n",
    "\n",
    "The longest sum of consecutive primes below one-thousand that adds to a prime, contains 21 terms, and is equal to 953.\n",
    "\n",
    "Which prime, below one-million, can be written as the sum of the most consecutive primes?\n"
   ]
  },
  {
   "cell_type": "code",
   "execution_count": 8,
   "metadata": {
    "collapsed": true
   },
   "outputs": [],
   "source": [
    "from primesieve import *\n",
    "\n",
    "primes = generate_primes(1000000)"
   ]
  },
  {
   "cell_type": "code",
   "execution_count": 9,
   "metadata": {
    "collapsed": false
   },
   "outputs": [
    {
     "data": {
      "text/plain": [
       "78498"
      ]
     },
     "execution_count": 9,
     "metadata": {},
     "output_type": "execute_result"
    }
   ],
   "source": [
    "len(primes)"
   ]
  },
  {
   "cell_type": "code",
   "execution_count": 14,
   "metadata": {
    "collapsed": false
   },
   "outputs": [
    {
     "name": "stdout",
     "output_type": "stream",
     "text": [
      "Project Euler 50 Solution =  997651  with  543  terms\n"
     ]
    }
   ],
   "source": [
    "roof = 1000000\n",
    "prime_sum = [0]\n",
    "for p in generate_primes(roof):\n",
    "    prime_sum.append(prime_sum[-1] + p)\n",
    "    if prime_sum[-1] >= L: break\n",
    "c = len(prime_sum)\n",
    "\n",
    "terms = 1\n",
    "for i in xrange(c):\n",
    "    for j in xrange(c-1, i+terms, -1):\n",
    "        n = prime_sum[j] - prime_sum[i]\n",
    "        if (j-i > terms and n in primes):\n",
    "            terms, max_prime = j-i, n\n",
    "            break\n",
    "\n",
    "print \"Project Euler 50 Solution = \", max_prime, \" with \", terms, \" terms\""
   ]
  },
  {
   "cell_type": "code",
   "execution_count": null,
   "metadata": {
    "collapsed": true
   },
   "outputs": [],
   "source": []
  }
 ],
 "metadata": {
  "kernelspec": {
   "display_name": "Python 2",
   "language": "python",
   "name": "python2"
  },
  "language_info": {
   "codemirror_mode": {
    "name": "ipython",
    "version": 2
   },
   "file_extension": ".py",
   "mimetype": "text/x-python",
   "name": "python",
   "nbconvert_exporter": "python",
   "pygments_lexer": "ipython2",
   "version": "2.7.11"
  }
 },
 "nbformat": 4,
 "nbformat_minor": 0
}
