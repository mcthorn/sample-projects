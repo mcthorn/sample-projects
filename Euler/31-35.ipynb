{
 "cells": [
  {
   "cell_type": "markdown",
   "metadata": {},
   "source": [
    "\n",
    "\n",
    "In England the currency is made up of pound, £, and pence, p, and there are eight coins in general circulation:\n",
    "\n",
    "    1p, 2p, 5p, 10p, 20p, 50p, £1 (100p) and £2 (200p).\n",
    "\n",
    "It is possible to make £2 in the following way:\n",
    "\n",
    "    1×£1 + 1×50p + 2×20p + 1×5p + 1×2p + 3×1p\n",
    "\n",
    "How many different ways can £2 be made using any number of coins?\n"
   ]
  },
  {
   "cell_type": "code",
   "execution_count": null,
   "metadata": {
    "collapsed": false
   },
   "outputs": [],
   "source": [
    "target = 200\n",
    "coins = [1, 2, 5, 10, 20, 50, 100, 200]\n",
    "ways = [1] + [0]*target\n",
    "\n",
    "for coin in coins:\n",
    "    for i in range(coin, target+1):\n",
    "        ways[i] += ways[i-coin]\n",
    "\n",
    "print \"Ways to make change =\", ways[target]"
   ]
  },
  {
   "cell_type": "code",
   "execution_count": null,
   "metadata": {
    "collapsed": false
   },
   "outputs": [],
   "source": [
    "print ways"
   ]
  },
  {
   "cell_type": "code",
   "execution_count": null,
   "metadata": {
    "collapsed": true
   },
   "outputs": [],
   "source": [
    "coins = [1, 2, 5, 10, 20, 50, 100, 200]\n",
    "\n",
    "TARGET=200\n",
    "\n",
    "matrix = {}\n",
    "for y in xrange(0, TARGET+1):\n",
    "    # There is only one way to form a target sum N\n",
    "    # via 1-cent coins: use N 1-cents!\n",
    "    matrix[y, 0] = 1  # equivalent to matrix[(y,0)]=1\n",
    "\n",
    "for y in xrange(0, TARGET+1):\n",
    "    print y, \":\", 1,\n",
    "    for x in xrange(1, len(coins)):\n",
    "        matrix[y, x] = 0\n",
    "        # Is the target big enough to accomodate coins[x]?\n",
    "        if y>=coins[x]:\n",
    "            # If yes, then the number of ways to form\n",
    "            # the target sum are obtained via:\n",
    "            #\n",
    "            # (a) the number of ways to form this target\n",
    "            #     using ONLY coins less than column x\n",
    "            #     i.e. matrix[y][x-1]\n",
    "            matrix[y, x] += matrix[y, x-1]\n",
    "            # plus\n",
    "            # (b) the number of ways to form this target\n",
    "            #     when USING the coin of column x\n",
    "            #     which means for a remainder of y-coins[x]\n",
    "            #     i.e. matrix[y-coins[x]][x]\n",
    "            matrix[y, x] += matrix[y-coins[x], x]\n",
    "        else:\n",
    "            # if the target is not big enough to allow\n",
    "            # usage of the coin in column x,\n",
    "            # then just copy the number of ways from the\n",
    "            # column to the left (i.e. with smaller coins)\n",
    "            matrix[y, x] = matrix[y, x-1]\n",
    "        print matrix[y, x],\n",
    "    print\n"
   ]
  },
  {
   "cell_type": "markdown",
   "metadata": {},
   "source": [
    "\n",
    "\n",
    "145 is a curious number, as 1! + 4! + 5! = 1 + 24 + 120 = 145.\n",
    "\n",
    "Find the sum of all numbers which are equal to the sum of the factorial of their digits.\n",
    "\n",
    "Note: as 1! = 1 and 2! = 2 are not sums they are not included.\n"
   ]
  },
  {
   "cell_type": "code",
   "execution_count": 15,
   "metadata": {
    "collapsed": false
   },
   "outputs": [
    {
     "name": "stdout",
     "output_type": "stream",
     "text": [
      "145\n",
      "40730\n"
     ]
    }
   ],
   "source": [
    "from math import factorial\n",
    "\n",
    "total = 0\n",
    "\n",
    "for num in xrange(3,100000):\n",
    "    factor_sum = 0\n",
    "    for digit in str(num):\n",
    "        factor_sum += factorial(int(digit))\n",
    "    if factor_sum == num:\n",
    "        total += num\n",
    "        print total"
   ]
  },
  {
   "cell_type": "markdown",
   "metadata": {
    "collapsed": true
   },
   "source": [
    "\n",
    "\n",
    "The number, 197, is called a circular prime because all rotations of the digits: 197, 971, and 719, are themselves prime.\n",
    "\n",
    "There are thirteen such primes below 100: 2, 3, 5, 7, 11, 13, 17, 31, 37, 71, 73, 79, and 97.\n",
    "\n",
    "How many circular primes are there below one million?\n"
   ]
  },
  {
   "cell_type": "code",
   "execution_count": 5,
   "metadata": {
    "collapsed": true
   },
   "outputs": [],
   "source": [
    "def getPrimesBelowN(n=1000000):\n",
    "    \"\"\"Get all primes below n with the sieve of Eratosthenes. \n",
    "    @return: a list 0..n with boolean values that indicate if \n",
    "             i in 0..n is a prime.\n",
    "    \"\"\"\n",
    "    from math import ceil\n",
    "    primes = [True] * n\n",
    "    primes[0] = False\n",
    "    primes[1] = False\n",
    "    primeList = []\n",
    "    roundUp = lambda n, prime: int(ceil(float(n) / prime))\n",
    "    for currentPrime in xrange(2, n):\n",
    "        if not primes[currentPrime]:\n",
    "            continue\n",
    "        primeList.append(currentPrime)\n",
    "        for multiplicant in xrange(2, roundUp(n, currentPrime)):\n",
    "            primes[multiplicant * currentPrime] = False\n",
    "    return primes"
   ]
  },
  {
   "cell_type": "code",
   "execution_count": 7,
   "metadata": {
    "collapsed": false
   },
   "outputs": [
    {
     "name": "stdout",
     "output_type": "stream",
     "text": [
      "Start sieving.\n",
      "End sieving.\n",
      "2\n",
      "5\n",
      "Number of circular primes: 55\n"
     ]
    }
   ],
   "source": [
    "def isCircularPrime(primes, number):\n",
    "    \"\"\"Check if number is a circular prime.\n",
    "     \n",
    "    Keyword arguments:\n",
    "    primes -- a list from 0..n with boolean values that indicate if \n",
    "              i in 0..n is a prime\n",
    "    number -- the integer you want to check\n",
    "    \"\"\"\n",
    "    number = str(number)\n",
    "    for i in xrange(0, len(number)):\n",
    "        rotatedNumber = number[i:len(number)] + number[0:i]\n",
    "        if not primes[int(rotatedNumber)]:\n",
    "            return False\n",
    "    return True\n",
    " \n",
    "if __name__ == \"__main__\":\n",
    "    print(\"Start sieving.\")\n",
    "    primes = getPrimesBelowN(1000000)\n",
    "    print(\"End sieving.\")\n",
    "    numberOfPrimes = 2\n",
    "    print(2)    # I print them now, because I want to skip all primes\n",
    "    print(5)    # that contain one of those digits: 0,2,4,5,6,8\n",
    "    for prime, isPrime in enumerate(primes):\n",
    "        if (not isPrime) or (\"2\" in str(prime)) or \\\n",
    "           (\"4\" in str(prime)) or (\"6\" in str(prime)) or \\\n",
    "           (\"8\" in str(prime)) or (\"0\" in str(prime)) or \\\n",
    "           (\"5\" in str(prime)):\n",
    "            continue\n",
    "        if isCircularPrime(primes, prime):\n",
    "           # print(prime)\n",
    "            numberOfPrimes += 1\n",
    " \n",
    "    print(\"Number of circular primes: %i\" % numberOfPrimes)"
   ]
  },
  {
   "cell_type": "code",
   "execution_count": null,
   "metadata": {
    "collapsed": true
   },
   "outputs": [],
   "source": []
  }
 ],
 "metadata": {
  "kernelspec": {
   "display_name": "Python 2",
   "language": "python",
   "name": "python2"
  },
  "language_info": {
   "codemirror_mode": {
    "name": "ipython",
    "version": 2
   },
   "file_extension": ".py",
   "mimetype": "text/x-python",
   "name": "python",
   "nbconvert_exporter": "python",
   "pygments_lexer": "ipython2",
   "version": "2.7.11"
  }
 },
 "nbformat": 4,
 "nbformat_minor": 0
}
