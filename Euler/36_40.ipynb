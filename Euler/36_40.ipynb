{
 "cells": [
  {
   "cell_type": "code",
   "execution_count": 23,
   "metadata": {
    "collapsed": false
   },
   "outputs": [],
   "source": [
    "def is_palindrome(n):\n",
    "    s = str(n)\n",
    "    if s == s[::-1]:\n",
    "        bi = str(dec_to_bin(n))\n",
    "        if bi == bi[::-1]:\n",
    "            return True\n",
    "    else: return False\n",
    "\n",
    "def dec_to_bin(x):\n",
    "    return int(bin(x)[2:])"
   ]
  },
  {
   "cell_type": "code",
   "execution_count": 28,
   "metadata": {
    "collapsed": false
   },
   "outputs": [
    {
     "name": "stdout",
     "output_type": "stream",
     "text": [
      "872187\n"
     ]
    }
   ],
   "source": [
    "total = 0\n",
    "for i in range(1,1000000): \n",
    "    a = is_palindrome(i)\n",
    "    if a == True:\n",
    "        total +=i   \n",
    "print total"
   ]
  },
  {
   "cell_type": "markdown",
   "metadata": {
    "collapsed": true
   },
   "source": [
    "\n",
    "\n",
    "If p is the perimeter of a right angle triangle with integral length sides, {a,b,c}, there are exactly three solutions for p = 120.\n",
    "\n",
    "{20,48,52}, {24,45,51}, {30,40,50}\n",
    "\n",
    "For which value of p ≤ 1000, is the number of solutions maximised?\n"
   ]
  },
  {
   "cell_type": "code",
   "execution_count": 1,
   "metadata": {
    "collapsed": true
   },
   "outputs": [],
   "source": [
    "import numpy as np"
   ]
  },
  {
   "cell_type": "code",
   "execution_count": 4,
   "metadata": {
    "collapsed": true
   },
   "outputs": [],
   "source": [
    "roof = 1000\n",
    "\n",
    "a = 30\n",
    "b = 40\n",
    "c = np.sqrt(a**2 + b**2)"
   ]
  },
  {
   "cell_type": "code",
   "execution_count": 6,
   "metadata": {
    "collapsed": false
   },
   "outputs": [
    {
     "data": {
      "text/plain": [
       "120.0"
      ]
     },
     "execution_count": 6,
     "metadata": {},
     "output_type": "execute_result"
    }
   ],
   "source": [
    "a+b+c"
   ]
  },
  {
   "cell_type": "code",
   "execution_count": 9,
   "metadata": {
    "collapsed": false
   },
   "outputs": [
    {
     "name": "stdout",
     "output_type": "stream",
     "text": [
      "Maximum perimeter, p <= 1000 is 840\n",
      "Triangles in set = 8\n"
     ]
    }
   ],
   "source": [
    "L, t_max, p_max = 1000, 0, 0  #L must be an even integer\n",
    "\n",
    "for p in range(L/4*2, L+1, 2):\n",
    "    t = 0\n",
    "    for a in range(2, int(p/3.4142) + 1):\n",
    "        if  p*(p - 2*a) % (2*(p - a)) == 0: \n",
    "            t += 1\n",
    "            if t >= t_max: t_max, p_max = t, p\n",
    " \n",
    "print \"Maximum perimeter, p <=\",L,\"is\", p_max\n",
    "print \"Triangles in set =\", t_max"
   ]
  },
  {
   "cell_type": "code",
   "execution_count": null,
   "metadata": {
    "collapsed": true
   },
   "outputs": [],
   "source": []
  }
 ],
 "metadata": {
  "kernelspec": {
   "display_name": "Python 2",
   "language": "python",
   "name": "python2"
  },
  "language_info": {
   "codemirror_mode": {
    "name": "ipython",
    "version": 2
   },
   "file_extension": ".py",
   "mimetype": "text/x-python",
   "name": "python",
   "nbconvert_exporter": "python",
   "pygments_lexer": "ipython2",
   "version": "2.7.11"
  }
 },
 "nbformat": 4,
 "nbformat_minor": 0
}
