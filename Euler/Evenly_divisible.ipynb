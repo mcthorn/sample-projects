{
 "cells": [
  {
   "cell_type": "code",
   "execution_count": 1,
   "metadata": {
    "collapsed": false
   },
   "outputs": [
    {
     "data": {
      "text/plain": [
       "'\\n2520 is the smallest number that can be divided by each of the numbers from 1 to 10 \\nwithout any remainder.\\n\\nWhat is the smallest positive number that is evenly divisible by all of the numbers \\nfrom 1 to 20?\\n'"
      ]
     },
     "execution_count": 1,
     "metadata": {},
     "output_type": "execute_result"
    }
   ],
   "source": [
    "'''\n",
    "2520 is the smallest number that can be divided by each of the numbers from 1 to 10 \n",
    "without any remainder.\n",
    "\n",
    "What is the smallest positive number that is evenly divisible by all of the numbers \n",
    "from 1 to 20?\n",
    "'''"
   ]
  },
  {
   "cell_type": "code",
   "execution_count": 36,
   "metadata": {
    "collapsed": false
   },
   "outputs": [],
   "source": [
    "import math\n",
    "\n",
    "n = 20\n",
    "prime_list = []\n",
    "for p in range(2, n+1):\n",
    "    for i in range(2, p):\n",
    "        if p % i == 0:\n",
    "            break\n",
    "    else:\n",
    "        prime_list.append(p)\n",
    "        "
   ]
  },
  {
   "cell_type": "code",
   "execution_count": 37,
   "metadata": {
    "collapsed": false
   },
   "outputs": [
    {
     "name": "stdout",
     "output_type": "stream",
     "text": [
      "[2, 3, 5, 7, 11, 13, 17, 19]\n"
     ]
    }
   ],
   "source": [
    "print prime_list"
   ]
  },
  {
   "cell_type": "code",
   "execution_count": 40,
   "metadata": {
    "collapsed": false
   },
   "outputs": [
    {
     "name": "stdout",
     "output_type": "stream",
     "text": [
      "9699690\n"
     ]
    }
   ],
   "source": [
    "roof = reduce(lambda x, y: x*y, prime_list) \n",
    "\n",
    "print roof"
   ]
  },
  {
   "cell_type": "code",
   "execution_count": 42,
   "metadata": {
    "collapsed": false
   },
   "outputs": [
    {
     "name": "stdout",
     "output_type": "stream",
     "text": [
      "210\n",
      "105\n",
      "70\n",
      "52\n",
      "42\n",
      "35\n",
      "30\n",
      "26\n",
      "23\n"
     ]
    }
   ],
   "source": [
    "for i in range(1,10):\n",
    "    print 210/i"
   ]
  },
  {
   "cell_type": "code",
   "execution_count": 43,
   "metadata": {
    "collapsed": false
   },
   "outputs": [
    {
     "name": "stdout",
     "output_type": "stream",
     "text": [
      "found an answer: 232792560\n"
     ]
    }
   ],
   "source": [
    "check_list = [11, 13, 14, 16, 17, 18, 19, 20]\n",
    "\n",
    "def find_solution(step):\n",
    "    for num in xrange(step, 999999999, step):\n",
    "        if all(num % n == 0 for n in check_list):\n",
    "            return num\n",
    "    return None\n"
   ]
  },
  {
   "cell_type": "code",
   "execution_count": 44,
   "metadata": {
    "collapsed": false
   },
   "outputs": [
    {
     "data": {
      "text/plain": [
       "232792560"
      ]
     },
     "execution_count": 44,
     "metadata": {},
     "output_type": "execute_result"
    }
   ],
   "source": [
    "find_solution(2520)"
   ]
  },
  {
   "cell_type": "code",
   "execution_count": null,
   "metadata": {
    "collapsed": true
   },
   "outputs": [],
   "source": []
  }
 ],
 "metadata": {
  "kernelspec": {
   "display_name": "Python 2",
   "language": "python",
   "name": "python2"
  },
  "language_info": {
   "codemirror_mode": {
    "name": "ipython",
    "version": 2
   },
   "file_extension": ".py",
   "mimetype": "text/x-python",
   "name": "python",
   "nbconvert_exporter": "python",
   "pygments_lexer": "ipython2",
   "version": "2.7.11"
  }
 },
 "nbformat": 4,
 "nbformat_minor": 0
}
