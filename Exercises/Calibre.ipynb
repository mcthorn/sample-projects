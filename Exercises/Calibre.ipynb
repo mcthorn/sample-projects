{
 "cells": [
  {
   "cell_type": "markdown",
   "metadata": {},
   "source": [
    "Part I:\n",
    "\n",
    "I spent ~4 hours on this, mostly getting the data into a form that could be fed into the models. I wound up spending about an hour trying to replicate a pandas built-in function, which is always a proud moment. \n",
    "\n",
    "Since all our data is categorical, we wind up with a very wide, pretty sparse data matrix. I chose 3 different classifiers to see if we could use the skill data to predict position title, Random Forest was a slight winner. Ensemble methods (like RF) tend to do the best with weak data. \n",
    "\n",
    "I didn't play around with feature engineering or using the timestamps to build time series, mostly due to time constraints. Also, using the time hacks to chop up the data into smaller chunks would have made the data even wider relative to depth for each time hack. Looking at these features is when correlations and trends emerge. \n",
    "\n",
    "I'd like to try a Hidden Markov Model on the skill data to see if we can identify latent sets within clusters. There might be sub-specialities we can identify either within or across skillsets.\n"
   ]
  },
  {
   "cell_type": "code",
   "execution_count": 1,
   "metadata": {
    "collapsed": false
   },
   "outputs": [],
   "source": [
    "import pandas as pd\n",
    "import numpy as np\n",
    "import string\n",
    "from sklearn.neighbors import KNeighborsClassifier as KNN\n",
    "from sklearn.linear_model import LogisticRegression as LR\n",
    "from sklearn.ensemble import RandomForestClassifier as RF\n",
    "\n",
    "import matplotlib.pyplot as plt\n",
    "%matplotlib inline "
   ]
  },
  {
   "cell_type": "code",
   "execution_count": 16,
   "metadata": {
    "collapsed": false
   },
   "outputs": [],
   "source": [
    "df_raw = pd.read_json('data.json')"
   ]
  },
  {
   "cell_type": "code",
   "execution_count": 17,
   "metadata": {
    "collapsed": false
   },
   "outputs": [
    {
     "data": {
      "text/html": [
       "<div>\n",
       "<table border=\"1\" class=\"dataframe\">\n",
       "  <thead>\n",
       "    <tr style=\"text-align: right;\">\n",
       "      <th></th>\n",
       "      <th>company</th>\n",
       "      <th>position</th>\n",
       "      <th>skills</th>\n",
       "      <th>timeStamp</th>\n",
       "    </tr>\n",
       "  </thead>\n",
       "  <tbody>\n",
       "    <tr>\n",
       "      <th>0</th>\n",
       "      <td>company_I</td>\n",
       "      <td>position_D</td>\n",
       "      <td>[I, M, R, X, G, J, H, Q, X, L, T, Z, S, P, U, ...</td>\n",
       "      <td>4/2/2016</td>\n",
       "    </tr>\n",
       "    <tr>\n",
       "      <th>1</th>\n",
       "      <td>company_L</td>\n",
       "      <td>position_D</td>\n",
       "      <td>[T, J, U, V, K, Z, L, C, C, T, K, T, W, P, S, ...</td>\n",
       "      <td>3/25/2016</td>\n",
       "    </tr>\n",
       "    <tr>\n",
       "      <th>2</th>\n",
       "      <td>company_C</td>\n",
       "      <td>position_C</td>\n",
       "      <td>[P, U, U, J, S, X, L, L, N, R, Z, S, K, M, A, ...</td>\n",
       "      <td>1/19/2016</td>\n",
       "    </tr>\n",
       "    <tr>\n",
       "      <th>3</th>\n",
       "      <td>company_M</td>\n",
       "      <td>position_E</td>\n",
       "      <td>[B, F, M, U, X, G, X, Q]</td>\n",
       "      <td>1/26/2016</td>\n",
       "    </tr>\n",
       "    <tr>\n",
       "      <th>4</th>\n",
       "      <td>company_K</td>\n",
       "      <td>position_C</td>\n",
       "      <td>[W, B, D, A, R, U, X, G, V, B, W, B, Y, Y, L, ...</td>\n",
       "      <td>5/17/2016</td>\n",
       "    </tr>\n",
       "  </tbody>\n",
       "</table>\n",
       "</div>"
      ],
      "text/plain": [
       "     company    position                                             skills  \\\n",
       "0  company_I  position_D  [I, M, R, X, G, J, H, Q, X, L, T, Z, S, P, U, ...   \n",
       "1  company_L  position_D  [T, J, U, V, K, Z, L, C, C, T, K, T, W, P, S, ...   \n",
       "2  company_C  position_C  [P, U, U, J, S, X, L, L, N, R, Z, S, K, M, A, ...   \n",
       "3  company_M  position_E                           [B, F, M, U, X, G, X, Q]   \n",
       "4  company_K  position_C  [W, B, D, A, R, U, X, G, V, B, W, B, Y, Y, L, ...   \n",
       "\n",
       "   timeStamp  \n",
       "0   4/2/2016  \n",
       "1  3/25/2016  \n",
       "2  1/19/2016  \n",
       "3  1/26/2016  \n",
       "4  5/17/2016  "
      ]
     },
     "execution_count": 17,
     "metadata": {},
     "output_type": "execute_result"
    }
   ],
   "source": [
    "df_raw.head()"
   ]
  },
  {
   "cell_type": "code",
   "execution_count": 10,
   "metadata": {
    "collapsed": false
   },
   "outputs": [],
   "source": [
    "df_raw['skills'] = df_raw['skills'].apply(lambda x: (set(x)))"
   ]
  },
  {
   "cell_type": "code",
   "execution_count": 18,
   "metadata": {
    "collapsed": false
   },
   "outputs": [],
   "source": [
    "df_skills = df_raw['skills']"
   ]
  },
  {
   "cell_type": "code",
   "execution_count": 19,
   "metadata": {
    "collapsed": false
   },
   "outputs": [
    {
     "data": {
      "text/plain": [
       "0    [I, M, R, X, G, J, H, Q, X, L, T, Z, S, P, U, ...\n",
       "1    [T, J, U, V, K, Z, L, C, C, T, K, T, W, P, S, ...\n",
       "2    [P, U, U, J, S, X, L, L, N, R, Z, S, K, M, A, ...\n",
       "3                             [B, F, M, U, X, G, X, Q]\n",
       "4    [W, B, D, A, R, U, X, G, V, B, W, B, Y, Y, L, ...\n",
       "Name: skills, dtype: object"
      ]
     },
     "execution_count": 19,
     "metadata": {},
     "output_type": "execute_result"
    }
   ],
   "source": [
    "df_skills.head()"
   ]
  },
  {
   "cell_type": "code",
   "execution_count": 20,
   "metadata": {
    "collapsed": false
   },
   "outputs": [],
   "source": [
    "test = pd.get_dummies(df_skills.apply(pd.Series).stack()).sum(level=0)"
   ]
  },
  {
   "cell_type": "code",
   "execution_count": 24,
   "metadata": {
    "collapsed": false,
    "scrolled": true
   },
   "outputs": [
    {
     "data": {
      "text/html": [
       "<div>\n",
       "<table border=\"1\" class=\"dataframe\">\n",
       "  <thead>\n",
       "    <tr style=\"text-align: right;\">\n",
       "      <th></th>\n",
       "      <th>A</th>\n",
       "      <th>B</th>\n",
       "      <th>C</th>\n",
       "      <th>D</th>\n",
       "      <th>E</th>\n",
       "      <th>F</th>\n",
       "      <th>G</th>\n",
       "      <th>H</th>\n",
       "      <th>I</th>\n",
       "      <th>J</th>\n",
       "      <th>...</th>\n",
       "      <th>Q</th>\n",
       "      <th>R</th>\n",
       "      <th>S</th>\n",
       "      <th>T</th>\n",
       "      <th>U</th>\n",
       "      <th>V</th>\n",
       "      <th>W</th>\n",
       "      <th>X</th>\n",
       "      <th>Y</th>\n",
       "      <th>Z</th>\n",
       "    </tr>\n",
       "  </thead>\n",
       "  <tbody>\n",
       "    <tr>\n",
       "      <th>0</th>\n",
       "      <td>0</td>\n",
       "      <td>0</td>\n",
       "      <td>1</td>\n",
       "      <td>0</td>\n",
       "      <td>0</td>\n",
       "      <td>0</td>\n",
       "      <td>1</td>\n",
       "      <td>1</td>\n",
       "      <td>1</td>\n",
       "      <td>1</td>\n",
       "      <td>...</td>\n",
       "      <td>3</td>\n",
       "      <td>1</td>\n",
       "      <td>1</td>\n",
       "      <td>1</td>\n",
       "      <td>1</td>\n",
       "      <td>0</td>\n",
       "      <td>2</td>\n",
       "      <td>2</td>\n",
       "      <td>0</td>\n",
       "      <td>2</td>\n",
       "    </tr>\n",
       "  </tbody>\n",
       "</table>\n",
       "<p>1 rows × 26 columns</p>\n",
       "</div>"
      ],
      "text/plain": [
       "   A  B  C  D  E  F  G  H  I  J ...  Q  R  S  T  U  V  W  X  Y  Z\n",
       "0  0  0  1  0  0  0  1  1  1  1 ...  3  1  1  1  1  0  2  2  0  2\n",
       "\n",
       "[1 rows x 26 columns]"
      ]
     },
     "execution_count": 24,
     "metadata": {},
     "output_type": "execute_result"
    }
   ],
   "source": [
    "test.head(1)"
   ]
  },
  {
   "cell_type": "code",
   "execution_count": 26,
   "metadata": {
    "collapsed": true
   },
   "outputs": [],
   "source": [
    "test2 = pd.get_dummies(df_raw['skills'].apply(pd.Series).stack()).sum(level=0)"
   ]
  },
  {
   "cell_type": "code",
   "execution_count": 27,
   "metadata": {
    "collapsed": false
   },
   "outputs": [
    {
     "data": {
      "text/html": [
       "<div>\n",
       "<table border=\"1\" class=\"dataframe\">\n",
       "  <thead>\n",
       "    <tr style=\"text-align: right;\">\n",
       "      <th></th>\n",
       "      <th>A</th>\n",
       "      <th>B</th>\n",
       "      <th>C</th>\n",
       "      <th>D</th>\n",
       "      <th>E</th>\n",
       "      <th>F</th>\n",
       "      <th>G</th>\n",
       "      <th>H</th>\n",
       "      <th>I</th>\n",
       "      <th>J</th>\n",
       "      <th>...</th>\n",
       "      <th>Q</th>\n",
       "      <th>R</th>\n",
       "      <th>S</th>\n",
       "      <th>T</th>\n",
       "      <th>U</th>\n",
       "      <th>V</th>\n",
       "      <th>W</th>\n",
       "      <th>X</th>\n",
       "      <th>Y</th>\n",
       "      <th>Z</th>\n",
       "    </tr>\n",
       "  </thead>\n",
       "  <tbody>\n",
       "    <tr>\n",
       "      <th>0</th>\n",
       "      <td>0</td>\n",
       "      <td>0</td>\n",
       "      <td>1</td>\n",
       "      <td>0</td>\n",
       "      <td>0</td>\n",
       "      <td>0</td>\n",
       "      <td>1</td>\n",
       "      <td>1</td>\n",
       "      <td>1</td>\n",
       "      <td>1</td>\n",
       "      <td>...</td>\n",
       "      <td>3</td>\n",
       "      <td>1</td>\n",
       "      <td>1</td>\n",
       "      <td>1</td>\n",
       "      <td>1</td>\n",
       "      <td>0</td>\n",
       "      <td>2</td>\n",
       "      <td>2</td>\n",
       "      <td>0</td>\n",
       "      <td>2</td>\n",
       "    </tr>\n",
       "  </tbody>\n",
       "</table>\n",
       "<p>1 rows × 26 columns</p>\n",
       "</div>"
      ],
      "text/plain": [
       "   A  B  C  D  E  F  G  H  I  J ...  Q  R  S  T  U  V  W  X  Y  Z\n",
       "0  0  0  1  0  0  0  1  1  1  1 ...  3  1  1  1  1  0  2  2  0  2\n",
       "\n",
       "[1 rows x 26 columns]"
      ]
     },
     "execution_count": 27,
     "metadata": {},
     "output_type": "execute_result"
    }
   ],
   "source": [
    "test2.head(1)"
   ]
  },
  {
   "cell_type": "code",
   "execution_count": 25,
   "metadata": {
    "collapsed": false,
    "scrolled": true
   },
   "outputs": [
    {
     "data": {
      "text/plain": [
       "[u'I',\n",
       " u'M',\n",
       " u'R',\n",
       " u'X',\n",
       " u'G',\n",
       " u'J',\n",
       " u'H',\n",
       " u'Q',\n",
       " u'X',\n",
       " u'L',\n",
       " u'T',\n",
       " u'Z',\n",
       " u'S',\n",
       " u'P',\n",
       " u'U',\n",
       " u'N',\n",
       " u'N',\n",
       " u'Z',\n",
       " u'Q',\n",
       " u'W',\n",
       " u'W',\n",
       " u'Q',\n",
       " u'C']"
      ]
     },
     "execution_count": 25,
     "metadata": {},
     "output_type": "execute_result"
    }
   ],
   "source": [
    "df_skills[0]"
   ]
  },
  {
   "cell_type": "code",
   "execution_count": 28,
   "metadata": {
    "collapsed": true
   },
   "outputs": [],
   "source": [
    "# can't use pre-built 'get_dummies' because skills is a nested list\n",
    "\n",
    "# I am assuming the possible skills are all letters A-Z, so I am using the string library\n",
    "# to build the possible skills options. Otherwise I would walk through the column and manually\n",
    "# build a dictionary using df.['skills'].tolist() or df['skills'].unique()\n",
    "\n",
    "# the dataframe name is hardcoded here\n",
    "def skill_profiler(row, skl_list):\n",
    "    for i in skl_list:\n",
    "        j = 'skill_' + i\n",
    "        df_raw.loc[row,j] = 1\n",
    "    pass\n",
    "\n",
    "skill_list = string.ascii_uppercase"
   ]
  },
  {
   "cell_type": "code",
   "execution_count": 29,
   "metadata": {
    "collapsed": false
   },
   "outputs": [],
   "source": [
    "# going to use these column lists later to build analysis data matrices\n",
    "skill_columns = []\n",
    "\n",
    "for i in skill_list:\n",
    "    name = 'skill_' + i\n",
    "    df_raw[name] = 0\n",
    "    skill_columns.append(name)\n",
    "    "
   ]
  },
  {
   "cell_type": "code",
   "execution_count": 30,
   "metadata": {
    "collapsed": false
   },
   "outputs": [],
   "source": [
    "company_columns = df_raw['company'].unique()\n",
    "position_columns = df_raw['position'].unique()"
   ]
  },
  {
   "cell_type": "code",
   "execution_count": 31,
   "metadata": {
    "collapsed": true
   },
   "outputs": [],
   "source": [
    "# takes a few seconds to run, my skill_profiler is slow\n",
    "\n",
    "row = 0\n",
    "for x in df_raw['skills']:\n",
    "    skill_profiler(row,x)\n",
    "    row +=1"
   ]
  },
  {
   "cell_type": "code",
   "execution_count": 8,
   "metadata": {
    "collapsed": true
   },
   "outputs": [
    {
     "data": {
      "text/html": [
       "<div>\n",
       "<table border=\"1\" class=\"dataframe\">\n",
       "  <thead>\n",
       "    <tr style=\"text-align: right;\">\n",
       "      <th></th>\n",
       "      <th>company</th>\n",
       "      <th>position</th>\n",
       "      <th>skills</th>\n",
       "      <th>timeStamp</th>\n",
       "      <th>skill_A</th>\n",
       "      <th>skill_B</th>\n",
       "      <th>skill_C</th>\n",
       "      <th>skill_D</th>\n",
       "      <th>skill_E</th>\n",
       "      <th>skill_F</th>\n",
       "      <th>...</th>\n",
       "      <th>skill_Q</th>\n",
       "      <th>skill_R</th>\n",
       "      <th>skill_S</th>\n",
       "      <th>skill_T</th>\n",
       "      <th>skill_U</th>\n",
       "      <th>skill_V</th>\n",
       "      <th>skill_W</th>\n",
       "      <th>skill_X</th>\n",
       "      <th>skill_Y</th>\n",
       "      <th>skill_Z</th>\n",
       "    </tr>\n",
       "  </thead>\n",
       "  <tbody>\n",
       "    <tr>\n",
       "      <th>0</th>\n",
       "      <td>company_I</td>\n",
       "      <td>position_D</td>\n",
       "      <td>set([C, G, I, H, J, M, L, N, Q, P, S, R, U, T,...</td>\n",
       "      <td>4/2/2016</td>\n",
       "      <td>0</td>\n",
       "      <td>0</td>\n",
       "      <td>1</td>\n",
       "      <td>0</td>\n",
       "      <td>0</td>\n",
       "      <td>0</td>\n",
       "      <td>...</td>\n",
       "      <td>1</td>\n",
       "      <td>1</td>\n",
       "      <td>1</td>\n",
       "      <td>1</td>\n",
       "      <td>1</td>\n",
       "      <td>0</td>\n",
       "      <td>1</td>\n",
       "      <td>1</td>\n",
       "      <td>0</td>\n",
       "      <td>1</td>\n",
       "    </tr>\n",
       "    <tr>\n",
       "      <th>1</th>\n",
       "      <td>company_L</td>\n",
       "      <td>position_D</td>\n",
       "      <td>set([C, D, G, H, K, J, L, Q, P, S, U, T, W, V,...</td>\n",
       "      <td>3/25/2016</td>\n",
       "      <td>0</td>\n",
       "      <td>0</td>\n",
       "      <td>1</td>\n",
       "      <td>1</td>\n",
       "      <td>0</td>\n",
       "      <td>0</td>\n",
       "      <td>...</td>\n",
       "      <td>1</td>\n",
       "      <td>0</td>\n",
       "      <td>1</td>\n",
       "      <td>1</td>\n",
       "      <td>1</td>\n",
       "      <td>1</td>\n",
       "      <td>1</td>\n",
       "      <td>0</td>\n",
       "      <td>0</td>\n",
       "      <td>1</td>\n",
       "    </tr>\n",
       "    <tr>\n",
       "      <th>2</th>\n",
       "      <td>company_C</td>\n",
       "      <td>position_C</td>\n",
       "      <td>set([A, K, J, M, L, N, P, S, R, U, W, X, Z])</td>\n",
       "      <td>1/19/2016</td>\n",
       "      <td>1</td>\n",
       "      <td>0</td>\n",
       "      <td>0</td>\n",
       "      <td>0</td>\n",
       "      <td>0</td>\n",
       "      <td>0</td>\n",
       "      <td>...</td>\n",
       "      <td>0</td>\n",
       "      <td>1</td>\n",
       "      <td>1</td>\n",
       "      <td>0</td>\n",
       "      <td>1</td>\n",
       "      <td>0</td>\n",
       "      <td>1</td>\n",
       "      <td>1</td>\n",
       "      <td>0</td>\n",
       "      <td>1</td>\n",
       "    </tr>\n",
       "    <tr>\n",
       "      <th>3</th>\n",
       "      <td>company_M</td>\n",
       "      <td>position_E</td>\n",
       "      <td>set([B, G, F, M, Q, U, X])</td>\n",
       "      <td>1/26/2016</td>\n",
       "      <td>0</td>\n",
       "      <td>1</td>\n",
       "      <td>0</td>\n",
       "      <td>0</td>\n",
       "      <td>0</td>\n",
       "      <td>1</td>\n",
       "      <td>...</td>\n",
       "      <td>1</td>\n",
       "      <td>0</td>\n",
       "      <td>0</td>\n",
       "      <td>0</td>\n",
       "      <td>1</td>\n",
       "      <td>0</td>\n",
       "      <td>0</td>\n",
       "      <td>1</td>\n",
       "      <td>0</td>\n",
       "      <td>0</td>\n",
       "    </tr>\n",
       "    <tr>\n",
       "      <th>4</th>\n",
       "      <td>company_K</td>\n",
       "      <td>position_C</td>\n",
       "      <td>set([A, B, E, D, G, L, R, U, T, W, V, Y, X])</td>\n",
       "      <td>5/17/2016</td>\n",
       "      <td>1</td>\n",
       "      <td>1</td>\n",
       "      <td>0</td>\n",
       "      <td>1</td>\n",
       "      <td>1</td>\n",
       "      <td>0</td>\n",
       "      <td>...</td>\n",
       "      <td>0</td>\n",
       "      <td>1</td>\n",
       "      <td>0</td>\n",
       "      <td>1</td>\n",
       "      <td>1</td>\n",
       "      <td>1</td>\n",
       "      <td>1</td>\n",
       "      <td>1</td>\n",
       "      <td>1</td>\n",
       "      <td>0</td>\n",
       "    </tr>\n",
       "  </tbody>\n",
       "</table>\n",
       "<p>5 rows × 30 columns</p>\n",
       "</div>"
      ],
      "text/plain": [
       "     company    position                                             skills  \\\n",
       "0  company_I  position_D  set([C, G, I, H, J, M, L, N, Q, P, S, R, U, T,...   \n",
       "1  company_L  position_D  set([C, D, G, H, K, J, L, Q, P, S, U, T, W, V,...   \n",
       "2  company_C  position_C       set([A, K, J, M, L, N, P, S, R, U, W, X, Z])   \n",
       "3  company_M  position_E                         set([B, G, F, M, Q, U, X])   \n",
       "4  company_K  position_C       set([A, B, E, D, G, L, R, U, T, W, V, Y, X])   \n",
       "\n",
       "   timeStamp  skill_A  skill_B  skill_C  skill_D  skill_E  skill_F   ...     \\\n",
       "0   4/2/2016        0        0        1        0        0        0   ...      \n",
       "1  3/25/2016        0        0        1        1        0        0   ...      \n",
       "2  1/19/2016        1        0        0        0        0        0   ...      \n",
       "3  1/26/2016        0        1        0        0        0        1   ...      \n",
       "4  5/17/2016        1        1        0        1        1        0   ...      \n",
       "\n",
       "   skill_Q  skill_R  skill_S  skill_T  skill_U  skill_V  skill_W  skill_X  \\\n",
       "0        1        1        1        1        1        0        1        1   \n",
       "1        1        0        1        1        1        1        1        0   \n",
       "2        0        1        1        0        1        0        1        1   \n",
       "3        1        0        0        0        1        0        0        1   \n",
       "4        0        1        0        1        1        1        1        1   \n",
       "\n",
       "   skill_Y  skill_Z  \n",
       "0        0        1  \n",
       "1        0        1  \n",
       "2        0        1  \n",
       "3        0        0  \n",
       "4        1        0  \n",
       "\n",
       "[5 rows x 30 columns]"
      ]
     },
     "execution_count": 8,
     "metadata": {},
     "output_type": "execute_result"
    }
   ],
   "source": [
    "df_raw.head()"
   ]
  },
  {
   "cell_type": "code",
   "execution_count": 32,
   "metadata": {
    "collapsed": false
   },
   "outputs": [],
   "source": [
    "df_position = pd.get_dummies(df_raw['position'])\n",
    "df_company = pd.get_dummies(df_raw['company'])\n"
   ]
  },
  {
   "cell_type": "code",
   "execution_count": 33,
   "metadata": {
    "collapsed": true
   },
   "outputs": [],
   "source": [
    "df1 = pd.concat([df_raw, df_position], axis=1)\n",
    "df = pd.concat([df1, df_company], axis=1)"
   ]
  },
  {
   "cell_type": "code",
   "execution_count": null,
   "metadata": {
    "collapsed": false
   },
   "outputs": [],
   "source": [
    "# we keep the categorical columns so we have easy labels for our models"
   ]
  },
  {
   "cell_type": "code",
   "execution_count": 45,
   "metadata": {
    "collapsed": false
   },
   "outputs": [],
   "source": [
    "# data is now ready to analyze!\n",
    "# since all these values are all unit binary (0 or 1), we don't need to scale or normalize them\n",
    "\n",
    "# splitting into test / train sets\n",
    "\n",
    "test_idx = np.random.uniform(0, 1, len(df)) <= 0.3\n",
    "train = df[test_idx==False]\n",
    "test = df[test_idx==True]"
   ]
  },
  {
   "cell_type": "code",
   "execution_count": 120,
   "metadata": {
    "collapsed": false
   },
   "outputs": [
    {
     "data": {
      "image/png": "[encoded data removed]",
      "text/plain": [
       "<matplotlib.figure.Figure at 0x10f30b950>"
      ]
     },
     "metadata": {},
     "output_type": "display_data"
    },
    {
     "name": "stdout",
     "output_type": "stream",
     "text": [
      "Best Accuracy: 0.249158, Neighbors: 41\n"
     ]
    }
   ],
   "source": [
    "# switch over to Manhattan distance\n",
    "\n",
    "# lets use skills to predict position title\n",
    "\n",
    "# first we're going to look at an elbow plot to find our optimum k\n",
    "\n",
    "# The model is weak enough that we don't get a clean elbow. Using the nearest point seems most \n",
    "# effective\n",
    "\n",
    "features = skill_columns\n",
    "target = 'position'\n",
    "\n",
    "# we want to remove one instance from a categorical value to reduce colinearity. \n",
    "features.pop()\n",
    "\n",
    "results = []\n",
    "for n in range(1, 51, 2):\n",
    "    clf = KNN(n_neighbors=n, metric='euclidean')\n",
    "    clf.fit(train[features], train[target])\n",
    "    preds = clf.predict(test[features])\n",
    "    accuracy = np.where(preds==test[target], 1, 0).sum() / float(len(test))\n",
    "#    print \"Neighbors: %d, Accuracy: %3f\" % (n, accuracy)\n",
    "    results.append([n, accuracy])\n",
    "        \n",
    "results = pd.DataFrame(results, columns=[\"n\", \"accuracy\"])\n",
    "\n",
    "plt.plot(results.n, results.accuracy)\n",
    "plt.title(\"Accuracy with Increasing K\")\n",
    "plt.show()\n",
    "\n",
    "best = results.iloc[results['accuracy'].idxmax()]\n",
    "\n",
    "print \"Best Accuracy: %3f, Neighbors: %d\" % (best['accuracy'],best['n'])\n"
   ]
  },
  {
   "cell_type": "code",
   "execution_count": 79,
   "metadata": {
    "collapsed": false
   },
   "outputs": [
    {
     "name": "stdout",
     "output_type": "stream",
     "text": [
      "Accuracy: 0.195286\n"
     ]
    }
   ],
   "source": [
    "# let's try the same thing with Logistic Regression\n",
    "\n",
    "clf = LR()\n",
    "clf.fit(train[features], train[target])\n",
    "preds = clf.predict(test[features])\n",
    "accuracy = np.where(preds==test[target], 1, 0).sum() / float(len(test))\n",
    "print \"Accuracy: %3f\" % (accuracy)\n",
    "        \n"
   ]
  },
  {
   "cell_type": "code",
   "execution_count": 78,
   "metadata": {
    "collapsed": false
   },
   "outputs": [
    {
     "data": {
      "image/png": "[encoded data removed]",
      "text/plain": [
       "<matplotlib.figure.Figure at 0x109548350>"
      ]
     },
     "metadata": {},
     "output_type": "display_data"
    },
    {
     "name": "stdout",
     "output_type": "stream",
     "text": [
      "Best Accuracy: 0.255892, Estimators: 47\n"
     ]
    }
   ],
   "source": [
    "results = []\n",
    "for n in range(1, 51, 2):\n",
    "    clf = RF(n_estimators=n)\n",
    "    clf.fit(train[features], train[target])\n",
    "    preds = clf.predict(test[features])\n",
    "    accuracy = np.where(preds==test[target], 1, 0).sum() / float(len(test))\n",
    "    results.append([n, accuracy])\n",
    "        \n",
    "results = pd.DataFrame(results, columns=[\"n\", \"accuracy\"])\n",
    "\n",
    "plt.plot(results.n, results.accuracy)\n",
    "plt.title(\"Accuracy with Increasing Estimators\")\n",
    "plt.show()\n",
    "\n",
    "best = results.iloc[results['accuracy'].idxmax()]\n",
    "\n",
    "print \"Best Accuracy: %3f, Estimators: %d\" % (best['accuracy'],best['n'])\n"
   ]
  },
  {
   "cell_type": "code",
   "execution_count": 81,
   "metadata": {
    "collapsed": false
   },
   "outputs": [
    {
     "data": {
      "image/png": "[encoded data removed]",
      "text/plain": [
       "<matplotlib.figure.Figure at 0x103c25b10>"
      ]
     },
     "metadata": {},
     "output_type": "display_data"
    },
    {
     "name": "stdout",
     "output_type": "stream",
     "text": [
      "Best Accuracy: 0.090909, Neighbors: 13\n"
     ]
    }
   ],
   "source": [
    "# Let's see if we can do better predicting what companies have certain skill sets\n",
    "\n",
    "features = skill_columns\n",
    "target = 'company'\n",
    "\n",
    "# we want to remove one instance from a categorical value to reduce colinearity. \n",
    "features.pop()\n",
    "\n",
    "results = []\n",
    "for n in range(1, 51, 2):\n",
    "    clf = KNN(n_neighbors=n)\n",
    "    clf.fit(train[features], train[target])\n",
    "    preds = clf.predict(test[features])\n",
    "    accuracy = np.where(preds==test[target], 1, 0).sum() / float(len(test))\n",
    "#    print \"Neighbors: %d, Accuracy: %3f\" % (n, accuracy)\n",
    "    results.append([n, accuracy])\n",
    "        \n",
    "results = pd.DataFrame(results, columns=[\"n\", \"accuracy\"])\n",
    "\n",
    "plt.plot(results.n, results.accuracy)\n",
    "plt.title(\"Accuracy with Increasing K\")\n",
    "plt.show()\n",
    "\n",
    "best = results.iloc[results['accuracy'].idxmax()]\n",
    "\n",
    "print \"Best Accuracy: %3f, Neighbors: %d\" % (best['accuracy'],best['n'])"
   ]
  },
  {
   "cell_type": "code",
   "execution_count": 82,
   "metadata": {
    "collapsed": false
   },
   "outputs": [
    {
     "name": "stdout",
     "output_type": "stream",
     "text": [
      "Accuracy: 0.057239\n"
     ]
    }
   ],
   "source": [
    "clf = LR()\n",
    "clf.fit(train[features], train[target])\n",
    "preds = clf.predict(test[features])\n",
    "accuracy = np.where(preds==test[target], 1, 0).sum() / float(len(test))\n",
    "print \"Accuracy: %3f\" % (accuracy)\n",
    "        "
   ]
  },
  {
   "cell_type": "code",
   "execution_count": 83,
   "metadata": {
    "collapsed": false
   },
   "outputs": [
    {
     "data": {
      "image/png": "[encoded data removed]",
      "text/plain": [
       "<matplotlib.figure.Figure at 0x10a7b0890>"
      ]
     },
     "metadata": {},
     "output_type": "display_data"
    },
    {
     "name": "stdout",
     "output_type": "stream",
     "text": [
      "Best Accuracy: 0.094276, Estimators: 19\n"
     ]
    }
   ],
   "source": [
    "results = []\n",
    "for n in range(1, 51, 2):\n",
    "    clf = RF(n_estimators=n)\n",
    "    clf.fit(train[features], train[target])\n",
    "    preds = clf.predict(test[features])\n",
    "    accuracy = np.where(preds==test[target], 1, 0).sum() / float(len(test))\n",
    "    results.append([n, accuracy])\n",
    "        \n",
    "results = pd.DataFrame(results, columns=[\"n\", \"accuracy\"])\n",
    "\n",
    "plt.plot(results.n, results.accuracy)\n",
    "plt.title(\"Accuracy with Increasing Estimators\")\n",
    "plt.show()\n",
    "\n",
    "best = results.iloc[results['accuracy'].idxmax()]\n",
    "\n",
    "print \"Best Accuracy: %3f, Estimators: %d\" % (best['accuracy'],best['n'])\n"
   ]
  },
  {
   "cell_type": "code",
   "execution_count": 93,
   "metadata": {
    "collapsed": false
   },
   "outputs": [
    {
     "data": {
      "image/png": "[encoded data removed]",
      "text/plain": [
       "<matplotlib.figure.Figure at 0x109501f50>"
      ]
     },
     "metadata": {},
     "output_type": "display_data"
    },
    {
     "name": "stdout",
     "output_type": "stream",
     "text": [
      "Best Accuracy: 0.077441, Neighbors: 25\n"
     ]
    }
   ],
   "source": [
    "# Can we predict company given position title? \n",
    "\n",
    "features = position_columns\n",
    "target = 'company'\n",
    "\n",
    "# we want to remove one instance from a categorical value to reduce colinearity. \n",
    "features = np.delete(features,1)\n",
    "\n",
    "results = []\n",
    "for n in range(1, 51, 2):\n",
    "    clf = KNN(n_neighbors=n)\n",
    "    clf.fit(train[features], train[target])\n",
    "    preds = clf.predict(test[features])\n",
    "    accuracy = np.where(preds==test[target], 1, 0).sum() / float(len(test))\n",
    "#    print \"Neighbors: %d, Accuracy: %3f\" % (n, accuracy)\n",
    "    results.append([n, accuracy])\n",
    "        \n",
    "results = pd.DataFrame(results, columns=[\"n\", \"accuracy\"])\n",
    "\n",
    "plt.plot(results.n, results.accuracy)\n",
    "plt.title(\"Accuracy with Increasing K\")\n",
    "plt.show()\n",
    "\n",
    "best = results.iloc[results['accuracy'].idxmax()]\n",
    "\n",
    "print \"Best Accuracy: %3f, Neighbors: %d\" % (best['accuracy'],best['n'])"
   ]
  },
  {
   "cell_type": "markdown",
   "metadata": {},
   "source": [
    "Part II:\n",
    "\n",
    "IBM Bluemix has a little more fine-grained categories, so I used their system instead of SentiWords. The back end relies on the LIWC psycho-linguistics dictionary, which is a bit more current.\n",
    "\n",
    "I'm also trusting you guys with my twitter login details.\n",
    "\n",
    "Key conclusion: very little of the tweets about the SuperBowl talk about football. The halftime show appears to have been far more interesting. Also, people were more conscientious than I would have expected for twitter. It's nice when the interne surprises you by being decent. \n"
   ]
  },
  {
   "cell_type": "code",
   "execution_count": 102,
   "metadata": {
    "collapsed": true
   },
   "outputs": [],
   "source": [
    "from twitter import *\n",
    "from watson_developer_cloud import ToneAnalyzerV2Experimental as ToneAnalyzer\n",
    "\n",
    "token = '3145793684-SSH0g11QPD9Y2LhbmAwe4GS0Uwx8PPeoEFscOxs'\n",
    "token_key = 'RrYvFsdAfOu2Me7S1clPbvYVjNU3w9CgsQT7tr9wzBB6u'\n",
    "con_secret = 'HAsKOyBnzE1ReSAt1zf2FOs8z'\n",
    "con_secret_key = 'kTTtphNZHDP9rNgxi97UZvWVDS0UPZUAZBKj0nzMNB6143EzuD'\n",
    "\n",
    "t = Twitter(\n",
    "auth=OAuth(token, token_key, con_secret, con_secret_key))\n"
   ]
  },
  {
   "cell_type": "code",
   "execution_count": 118,
   "metadata": {
    "collapsed": false
   },
   "outputs": [],
   "source": [
    "super_tweets = t.search.tweets(q=\"SuperBowl\")\n",
    "tweet_text = []\n",
    "for i in super_tweets['statuses']:\n",
    "    tweet_text.append(i['text'])\n",
    "#print tweet_text"
   ]
  },
  {
   "cell_type": "code",
   "execution_count": 116,
   "metadata": {
    "collapsed": true
   },
   "outputs": [],
   "source": [
    "columns = [u'Cheerful', u'Negative', u'Angry',\\\n",
    "           u'Analytical', u'Confident', u'Tentative',\\\n",
    "           u'Open', u'Agreeable', u'Conscientious']\n",
    "\n",
    "tone_analyzer = ToneAnalyzer(username=\"6d0c7680-2f8c-4151-ad33-21b464bff36a\",\n",
    "                             password=\"w9HbG6dV2jJj\")"
   ]
  },
  {
   "cell_type": "code",
   "execution_count": 117,
   "metadata": {
    "collapsed": false
   },
   "outputs": [
    {
     "name": "stdout",
     "output_type": "stream",
     "text": [
      " Tone of SuperBowl Tweets:\n"
     ]
    },
    {
     "data": {
      "text/html": [
       "<div>\n",
       "<table border=\"1\" class=\"dataframe\">\n",
       "  <thead>\n",
       "    <tr style=\"text-align: right;\">\n",
       "      <th></th>\n",
       "      <th>Cheerful</th>\n",
       "      <th>Negative</th>\n",
       "      <th>Angry</th>\n",
       "      <th>Analytical</th>\n",
       "      <th>Confident</th>\n",
       "      <th>Tentative</th>\n",
       "      <th>Open</th>\n",
       "      <th>Agreeable</th>\n",
       "      <th>Conscientious</th>\n",
       "    </tr>\n",
       "  </thead>\n",
       "  <tbody>\n",
       "    <tr>\n",
       "      <th>0</th>\n",
       "      <td>0.007226</td>\n",
       "      <td>0.004818</td>\n",
       "      <td>0</td>\n",
       "      <td>0.001204</td>\n",
       "      <td>0</td>\n",
       "      <td>0.003613</td>\n",
       "      <td>-0.021368</td>\n",
       "      <td>0.000053</td>\n",
       "      <td>0.028421</td>\n",
       "    </tr>\n",
       "  </tbody>\n",
       "</table>\n",
       "</div>"
      ],
      "text/plain": [
       "   Cheerful  Negative  Angry  Analytical  Confident  Tentative      Open  \\\n",
       "0  0.007226  0.004818      0    0.001204          0   0.003613 -0.021368   \n",
       "\n",
       "   Agreeable  Conscientious  \n",
       "0   0.000053       0.028421  "
      ]
     },
     "execution_count": 117,
     "metadata": {},
     "output_type": "execute_result"
    }
   ],
   "source": [
    "input_text = ' '.join(tweet_text)\n",
    "\n",
    "tone_data = []\n",
    "input_result = tone_analyzer.tone(text=input_text)\n",
    "for i in input_result['children']:\n",
    "    for j in i['children']:\n",
    "        tone_data.append(j['raw_score'])\n",
    "\n",
    "print \" Tone of SuperBowl Tweets:\"\n",
    "df_tone = pd.DataFrame([tone_data], columns=columns)\n",
    "df_tone.head()"
   ]
  },
  {
   "cell_type": "code",
   "execution_count": null,
   "metadata": {
    "collapsed": true
   },
   "outputs": [],
   "source": []
  }
 ],
 "metadata": {
  "kernelspec": {
   "display_name": "Python 2",
   "language": "python",
   "name": "python2"
  },
  "language_info": {
   "codemirror_mode": {
    "name": "ipython",
    "version": 2
   },
   "file_extension": ".py",
   "mimetype": "text/x-python",
   "name": "python",
   "nbconvert_exporter": "python",
   "pygments_lexer": "ipython2",
   "version": "2.7.11"
  }
 },
 "nbformat": 4,
 "nbformat_minor": 0
}
