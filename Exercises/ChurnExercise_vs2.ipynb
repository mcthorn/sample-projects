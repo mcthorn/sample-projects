{
 "cells": [
  {
   "cell_type": "markdown",
   "metadata": {
    "collapsed": true
   },
   "source": [
    "Trying two methods to address unbalanced classes, using the built in class_weight=\"auto\" which uses a simple inverse frequency weighting, and SMOTE rebalancing\n",
    "\n",
    "I am using StandardScaler to scale the data\n",
    "\n",
    "Scaling and weighting classes pushed accuracy and precision down, which makes sense. With strongly unbalanced data, it makes sense to always guess for the over-weighted outcome\n",
    "\n",
    "Even though these models now are less accurate, they are more informative\n"
   ]
  },
  {
   "cell_type": "code",
   "execution_count": 63,
   "metadata": {
    "collapsed": false
   },
   "outputs": [],
   "source": [
    "# Much of this code is courtesy of Jonathan Dinu.\n",
    "\n",
    "from __future__ import division\n",
    "from sklearn.cross_validation import train_test_split,cross_val_score,KFold\n",
    "from sklearn.ensemble import RandomForestClassifier\n",
    "from sklearn.metrics import confusion_matrix,precision_score,recall_score\n",
    "from sklearn.linear_model import LogisticRegression\n",
    "from sklearn.neighbors import KNeighborsClassifier\n",
    "from sklearn.tree import DecisionTreeClassifier\n",
    "from sklearn.preprocessing import StandardScaler\n",
    "\n",
    "import pandas as pd\n",
    "import numpy as np\n",
    "import matplotlib.pyplot as plt\n",
    "%matplotlib inline"
   ]
  },
  {
   "cell_type": "code",
   "execution_count": 16,
   "metadata": {
    "collapsed": true
   },
   "outputs": [],
   "source": [
    "def roc_curve(model,X,y,fit=False):\n",
    "    \n",
    "    if fit:\n",
    "        X_train,X_test,y_train,y_test = train_test_split(X,y)\n",
    "        f_model = model().fit(X_train,y_train)\n",
    "        probabilities = f_model.predict_proba(X_test)[:,1]\n",
    "        y_true = y_test\n",
    "    else:\n",
    "        probabilities = model.predict_proba(X)[:,1]\n",
    "        y_true = y\n",
    "    \n",
    "    tpr,fpr,thresholds = [],[],[]    \n",
    "    ind = probabilities.argsort()\n",
    "    probabilities = [probabilities[i] for i in ind] \n",
    "    labels = [y_true[i] for i in ind] \n",
    "    for thresh in probabilities:\n",
    "        thresholds.append(thresh)\n",
    "        pos = len([i for i in y_true if i == 1])\n",
    "        neg = len([i for i in y_true if i == 0])\n",
    "        tp = len([probabilities[i] for i in range(len(probabilities)) if probabilities[i]>=thresh and y_true[i] == 1])\n",
    "        fp = len([probabilities[i] for i in range(len(probabilities)) if probabilities[i]>=thresh and y_true[i] == 0])\n",
    "        tpr.append(tp/pos)\n",
    "        fpr.append(fp/neg)\n",
    "    return tpr,fpr"
   ]
  },
  {
   "cell_type": "code",
   "execution_count": 17,
   "metadata": {
    "collapsed": false
   },
   "outputs": [
    {
     "data": {
      "text/html": [
       "<div>\n",
       "<table border=\"1\" class=\"dataframe\">\n",
       "  <thead>\n",
       "    <tr style=\"text-align: right;\">\n",
       "      <th></th>\n",
       "      <th>State</th>\n",
       "      <th>Account Length</th>\n",
       "      <th>Area Code</th>\n",
       "      <th>Phone</th>\n",
       "      <th>Int'l Plan</th>\n",
       "      <th>VMail Plan</th>\n",
       "      <th>VMail Message</th>\n",
       "      <th>Day Mins</th>\n",
       "      <th>Day Calls</th>\n",
       "      <th>Day Charge</th>\n",
       "      <th>...</th>\n",
       "      <th>Eve Calls</th>\n",
       "      <th>Eve Charge</th>\n",
       "      <th>Night Mins</th>\n",
       "      <th>Night Calls</th>\n",
       "      <th>Night Charge</th>\n",
       "      <th>Intl Mins</th>\n",
       "      <th>Intl Calls</th>\n",
       "      <th>Intl Charge</th>\n",
       "      <th>CustServ Calls</th>\n",
       "      <th>Churn?</th>\n",
       "    </tr>\n",
       "  </thead>\n",
       "  <tbody>\n",
       "    <tr>\n",
       "      <th>0</th>\n",
       "      <td>KS</td>\n",
       "      <td>128</td>\n",
       "      <td>415</td>\n",
       "      <td>382-4657</td>\n",
       "      <td>no</td>\n",
       "      <td>yes</td>\n",
       "      <td>25</td>\n",
       "      <td>265.1</td>\n",
       "      <td>110</td>\n",
       "      <td>45.07</td>\n",
       "      <td>...</td>\n",
       "      <td>99</td>\n",
       "      <td>16.78</td>\n",
       "      <td>244.7</td>\n",
       "      <td>91</td>\n",
       "      <td>11.01</td>\n",
       "      <td>10.0</td>\n",
       "      <td>3</td>\n",
       "      <td>2.70</td>\n",
       "      <td>1</td>\n",
       "      <td>False.</td>\n",
       "    </tr>\n",
       "    <tr>\n",
       "      <th>1</th>\n",
       "      <td>OH</td>\n",
       "      <td>107</td>\n",
       "      <td>415</td>\n",
       "      <td>371-7191</td>\n",
       "      <td>no</td>\n",
       "      <td>yes</td>\n",
       "      <td>26</td>\n",
       "      <td>161.6</td>\n",
       "      <td>123</td>\n",
       "      <td>27.47</td>\n",
       "      <td>...</td>\n",
       "      <td>103</td>\n",
       "      <td>16.62</td>\n",
       "      <td>254.4</td>\n",
       "      <td>103</td>\n",
       "      <td>11.45</td>\n",
       "      <td>13.7</td>\n",
       "      <td>3</td>\n",
       "      <td>3.70</td>\n",
       "      <td>1</td>\n",
       "      <td>False.</td>\n",
       "    </tr>\n",
       "    <tr>\n",
       "      <th>2</th>\n",
       "      <td>NJ</td>\n",
       "      <td>137</td>\n",
       "      <td>415</td>\n",
       "      <td>358-1921</td>\n",
       "      <td>no</td>\n",
       "      <td>no</td>\n",
       "      <td>0</td>\n",
       "      <td>243.4</td>\n",
       "      <td>114</td>\n",
       "      <td>41.38</td>\n",
       "      <td>...</td>\n",
       "      <td>110</td>\n",
       "      <td>10.30</td>\n",
       "      <td>162.6</td>\n",
       "      <td>104</td>\n",
       "      <td>7.32</td>\n",
       "      <td>12.2</td>\n",
       "      <td>5</td>\n",
       "      <td>3.29</td>\n",
       "      <td>0</td>\n",
       "      <td>False.</td>\n",
       "    </tr>\n",
       "    <tr>\n",
       "      <th>3</th>\n",
       "      <td>OH</td>\n",
       "      <td>84</td>\n",
       "      <td>408</td>\n",
       "      <td>375-9999</td>\n",
       "      <td>yes</td>\n",
       "      <td>no</td>\n",
       "      <td>0</td>\n",
       "      <td>299.4</td>\n",
       "      <td>71</td>\n",
       "      <td>50.90</td>\n",
       "      <td>...</td>\n",
       "      <td>88</td>\n",
       "      <td>5.26</td>\n",
       "      <td>196.9</td>\n",
       "      <td>89</td>\n",
       "      <td>8.86</td>\n",
       "      <td>6.6</td>\n",
       "      <td>7</td>\n",
       "      <td>1.78</td>\n",
       "      <td>2</td>\n",
       "      <td>False.</td>\n",
       "    </tr>\n",
       "    <tr>\n",
       "      <th>4</th>\n",
       "      <td>OK</td>\n",
       "      <td>75</td>\n",
       "      <td>415</td>\n",
       "      <td>330-6626</td>\n",
       "      <td>yes</td>\n",
       "      <td>no</td>\n",
       "      <td>0</td>\n",
       "      <td>166.7</td>\n",
       "      <td>113</td>\n",
       "      <td>28.34</td>\n",
       "      <td>...</td>\n",
       "      <td>122</td>\n",
       "      <td>12.61</td>\n",
       "      <td>186.9</td>\n",
       "      <td>121</td>\n",
       "      <td>8.41</td>\n",
       "      <td>10.1</td>\n",
       "      <td>3</td>\n",
       "      <td>2.73</td>\n",
       "      <td>3</td>\n",
       "      <td>False.</td>\n",
       "    </tr>\n",
       "  </tbody>\n",
       "</table>\n",
       "<p>5 rows × 21 columns</p>\n",
       "</div>"
      ],
      "text/plain": [
       "  State  Account Length  Area Code     Phone Int'l Plan VMail Plan  \\\n",
       "0    KS             128        415  382-4657         no        yes   \n",
       "1    OH             107        415  371-7191         no        yes   \n",
       "2    NJ             137        415  358-1921         no         no   \n",
       "3    OH              84        408  375-9999        yes         no   \n",
       "4    OK              75        415  330-6626        yes         no   \n",
       "\n",
       "   VMail Message  Day Mins  Day Calls  Day Charge   ...    Eve Calls  \\\n",
       "0             25     265.1        110       45.07   ...           99   \n",
       "1             26     161.6        123       27.47   ...          103   \n",
       "2              0     243.4        114       41.38   ...          110   \n",
       "3              0     299.4         71       50.90   ...           88   \n",
       "4              0     166.7        113       28.34   ...          122   \n",
       "\n",
       "   Eve Charge  Night Mins  Night Calls  Night Charge  Intl Mins  Intl Calls  \\\n",
       "0       16.78       244.7           91         11.01       10.0           3   \n",
       "1       16.62       254.4          103         11.45       13.7           3   \n",
       "2       10.30       162.6          104          7.32       12.2           5   \n",
       "3        5.26       196.9           89          8.86        6.6           7   \n",
       "4       12.61       186.9          121          8.41       10.1           3   \n",
       "\n",
       "   Intl Charge  CustServ Calls  Churn?  \n",
       "0         2.70               1  False.  \n",
       "1         3.70               1  False.  \n",
       "2         3.29               0  False.  \n",
       "3         1.78               2  False.  \n",
       "4         2.73               3  False.  \n",
       "\n",
       "[5 rows x 21 columns]"
      ]
     },
     "execution_count": 17,
     "metadata": {},
     "output_type": "execute_result"
    }
   ],
   "source": [
    "df = pd.read_csv('data/churn.csv')\n",
    "df.head()"
   ]
  },
  {
   "cell_type": "code",
   "execution_count": 18,
   "metadata": {
    "collapsed": false
   },
   "outputs": [
    {
     "data": {
      "text/html": [
       "<div>\n",
       "<table border=\"1\" class=\"dataframe\">\n",
       "  <thead>\n",
       "    <tr style=\"text-align: right;\">\n",
       "      <th></th>\n",
       "      <th>State</th>\n",
       "      <th>Account Length</th>\n",
       "      <th>Area Code</th>\n",
       "      <th>Phone</th>\n",
       "      <th>Int'l Plan</th>\n",
       "      <th>VMail Plan</th>\n",
       "      <th>VMail Message</th>\n",
       "      <th>Day Mins</th>\n",
       "      <th>Day Calls</th>\n",
       "      <th>Day Charge</th>\n",
       "      <th>...</th>\n",
       "      <th>Eve Calls</th>\n",
       "      <th>Eve Charge</th>\n",
       "      <th>Night Mins</th>\n",
       "      <th>Night Calls</th>\n",
       "      <th>Night Charge</th>\n",
       "      <th>Intl Mins</th>\n",
       "      <th>Intl Calls</th>\n",
       "      <th>Intl Charge</th>\n",
       "      <th>CustServ Calls</th>\n",
       "      <th>Churn?</th>\n",
       "    </tr>\n",
       "  </thead>\n",
       "  <tbody>\n",
       "    <tr>\n",
       "      <th>0</th>\n",
       "      <td>KS</td>\n",
       "      <td>128</td>\n",
       "      <td>415</td>\n",
       "      <td>382-4657</td>\n",
       "      <td>False</td>\n",
       "      <td>True</td>\n",
       "      <td>25</td>\n",
       "      <td>265.1</td>\n",
       "      <td>110</td>\n",
       "      <td>45.07</td>\n",
       "      <td>...</td>\n",
       "      <td>99</td>\n",
       "      <td>16.78</td>\n",
       "      <td>244.7</td>\n",
       "      <td>91</td>\n",
       "      <td>11.01</td>\n",
       "      <td>10.0</td>\n",
       "      <td>3</td>\n",
       "      <td>2.70</td>\n",
       "      <td>1</td>\n",
       "      <td>False</td>\n",
       "    </tr>\n",
       "    <tr>\n",
       "      <th>1</th>\n",
       "      <td>OH</td>\n",
       "      <td>107</td>\n",
       "      <td>415</td>\n",
       "      <td>371-7191</td>\n",
       "      <td>False</td>\n",
       "      <td>True</td>\n",
       "      <td>26</td>\n",
       "      <td>161.6</td>\n",
       "      <td>123</td>\n",
       "      <td>27.47</td>\n",
       "      <td>...</td>\n",
       "      <td>103</td>\n",
       "      <td>16.62</td>\n",
       "      <td>254.4</td>\n",
       "      <td>103</td>\n",
       "      <td>11.45</td>\n",
       "      <td>13.7</td>\n",
       "      <td>3</td>\n",
       "      <td>3.70</td>\n",
       "      <td>1</td>\n",
       "      <td>False</td>\n",
       "    </tr>\n",
       "    <tr>\n",
       "      <th>2</th>\n",
       "      <td>NJ</td>\n",
       "      <td>137</td>\n",
       "      <td>415</td>\n",
       "      <td>358-1921</td>\n",
       "      <td>False</td>\n",
       "      <td>False</td>\n",
       "      <td>0</td>\n",
       "      <td>243.4</td>\n",
       "      <td>114</td>\n",
       "      <td>41.38</td>\n",
       "      <td>...</td>\n",
       "      <td>110</td>\n",
       "      <td>10.30</td>\n",
       "      <td>162.6</td>\n",
       "      <td>104</td>\n",
       "      <td>7.32</td>\n",
       "      <td>12.2</td>\n",
       "      <td>5</td>\n",
       "      <td>3.29</td>\n",
       "      <td>0</td>\n",
       "      <td>False</td>\n",
       "    </tr>\n",
       "    <tr>\n",
       "      <th>3</th>\n",
       "      <td>OH</td>\n",
       "      <td>84</td>\n",
       "      <td>408</td>\n",
       "      <td>375-9999</td>\n",
       "      <td>True</td>\n",
       "      <td>False</td>\n",
       "      <td>0</td>\n",
       "      <td>299.4</td>\n",
       "      <td>71</td>\n",
       "      <td>50.90</td>\n",
       "      <td>...</td>\n",
       "      <td>88</td>\n",
       "      <td>5.26</td>\n",
       "      <td>196.9</td>\n",
       "      <td>89</td>\n",
       "      <td>8.86</td>\n",
       "      <td>6.6</td>\n",
       "      <td>7</td>\n",
       "      <td>1.78</td>\n",
       "      <td>2</td>\n",
       "      <td>False</td>\n",
       "    </tr>\n",
       "    <tr>\n",
       "      <th>4</th>\n",
       "      <td>OK</td>\n",
       "      <td>75</td>\n",
       "      <td>415</td>\n",
       "      <td>330-6626</td>\n",
       "      <td>True</td>\n",
       "      <td>False</td>\n",
       "      <td>0</td>\n",
       "      <td>166.7</td>\n",
       "      <td>113</td>\n",
       "      <td>28.34</td>\n",
       "      <td>...</td>\n",
       "      <td>122</td>\n",
       "      <td>12.61</td>\n",
       "      <td>186.9</td>\n",
       "      <td>121</td>\n",
       "      <td>8.41</td>\n",
       "      <td>10.1</td>\n",
       "      <td>3</td>\n",
       "      <td>2.73</td>\n",
       "      <td>3</td>\n",
       "      <td>False</td>\n",
       "    </tr>\n",
       "  </tbody>\n",
       "</table>\n",
       "<p>5 rows × 21 columns</p>\n",
       "</div>"
      ],
      "text/plain": [
       "  State  Account Length  Area Code     Phone Int'l Plan VMail Plan  \\\n",
       "0    KS             128        415  382-4657      False       True   \n",
       "1    OH             107        415  371-7191      False       True   \n",
       "2    NJ             137        415  358-1921      False      False   \n",
       "3    OH              84        408  375-9999       True      False   \n",
       "4    OK              75        415  330-6626       True      False   \n",
       "\n",
       "   VMail Message  Day Mins  Day Calls  Day Charge   ...    Eve Calls  \\\n",
       "0             25     265.1        110       45.07   ...           99   \n",
       "1             26     161.6        123       27.47   ...          103   \n",
       "2              0     243.4        114       41.38   ...          110   \n",
       "3              0     299.4         71       50.90   ...           88   \n",
       "4              0     166.7        113       28.34   ...          122   \n",
       "\n",
       "   Eve Charge  Night Mins  Night Calls  Night Charge  Intl Mins  Intl Calls  \\\n",
       "0       16.78       244.7           91         11.01       10.0           3   \n",
       "1       16.62       254.4          103         11.45       13.7           3   \n",
       "2       10.30       162.6          104          7.32       12.2           5   \n",
       "3        5.26       196.9           89          8.86        6.6           7   \n",
       "4       12.61       186.9          121          8.41       10.1           3   \n",
       "\n",
       "   Intl Charge  CustServ Calls  Churn?  \n",
       "0         2.70               1   False  \n",
       "1         3.70               1   False  \n",
       "2         3.29               0   False  \n",
       "3         1.78               2   False  \n",
       "4         2.73               3   False  \n",
       "\n",
       "[5 rows x 21 columns]"
      ]
     },
     "execution_count": 18,
     "metadata": {},
     "output_type": "execute_result"
    }
   ],
   "source": [
    "# Convert yes and no to True and False\n",
    "df = df.replace({'yes':True,'no':False,\"True.\":True,\"False.\":False})\n",
    "df.head()"
   ]
  },
  {
   "cell_type": "code",
   "execution_count": 19,
   "metadata": {
    "collapsed": false
   },
   "outputs": [
    {
     "data": {
      "text/html": [
       "<div>\n",
       "<table border=\"1\" class=\"dataframe\">\n",
       "  <thead>\n",
       "    <tr style=\"text-align: right;\">\n",
       "      <th></th>\n",
       "      <th>Account Length</th>\n",
       "      <th>Area Code</th>\n",
       "      <th>Int'l Plan</th>\n",
       "      <th>VMail Plan</th>\n",
       "      <th>VMail Message</th>\n",
       "      <th>Day Mins</th>\n",
       "      <th>Day Calls</th>\n",
       "      <th>Day Charge</th>\n",
       "      <th>Eve Mins</th>\n",
       "      <th>Eve Calls</th>\n",
       "      <th>Eve Charge</th>\n",
       "      <th>Night Mins</th>\n",
       "      <th>Night Calls</th>\n",
       "      <th>Night Charge</th>\n",
       "      <th>Intl Mins</th>\n",
       "      <th>Intl Calls</th>\n",
       "      <th>Intl Charge</th>\n",
       "      <th>CustServ Calls</th>\n",
       "      <th>Churn?</th>\n",
       "    </tr>\n",
       "  </thead>\n",
       "  <tbody>\n",
       "    <tr>\n",
       "      <th>0</th>\n",
       "      <td>128</td>\n",
       "      <td>415</td>\n",
       "      <td>False</td>\n",
       "      <td>True</td>\n",
       "      <td>25</td>\n",
       "      <td>265.1</td>\n",
       "      <td>110</td>\n",
       "      <td>45.07</td>\n",
       "      <td>197.4</td>\n",
       "      <td>99</td>\n",
       "      <td>16.78</td>\n",
       "      <td>244.7</td>\n",
       "      <td>91</td>\n",
       "      <td>11.01</td>\n",
       "      <td>10.0</td>\n",
       "      <td>3</td>\n",
       "      <td>2.70</td>\n",
       "      <td>1</td>\n",
       "      <td>False</td>\n",
       "    </tr>\n",
       "    <tr>\n",
       "      <th>1</th>\n",
       "      <td>107</td>\n",
       "      <td>415</td>\n",
       "      <td>False</td>\n",
       "      <td>True</td>\n",
       "      <td>26</td>\n",
       "      <td>161.6</td>\n",
       "      <td>123</td>\n",
       "      <td>27.47</td>\n",
       "      <td>195.5</td>\n",
       "      <td>103</td>\n",
       "      <td>16.62</td>\n",
       "      <td>254.4</td>\n",
       "      <td>103</td>\n",
       "      <td>11.45</td>\n",
       "      <td>13.7</td>\n",
       "      <td>3</td>\n",
       "      <td>3.70</td>\n",
       "      <td>1</td>\n",
       "      <td>False</td>\n",
       "    </tr>\n",
       "    <tr>\n",
       "      <th>2</th>\n",
       "      <td>137</td>\n",
       "      <td>415</td>\n",
       "      <td>False</td>\n",
       "      <td>False</td>\n",
       "      <td>0</td>\n",
       "      <td>243.4</td>\n",
       "      <td>114</td>\n",
       "      <td>41.38</td>\n",
       "      <td>121.2</td>\n",
       "      <td>110</td>\n",
       "      <td>10.30</td>\n",
       "      <td>162.6</td>\n",
       "      <td>104</td>\n",
       "      <td>7.32</td>\n",
       "      <td>12.2</td>\n",
       "      <td>5</td>\n",
       "      <td>3.29</td>\n",
       "      <td>0</td>\n",
       "      <td>False</td>\n",
       "    </tr>\n",
       "    <tr>\n",
       "      <th>3</th>\n",
       "      <td>84</td>\n",
       "      <td>408</td>\n",
       "      <td>True</td>\n",
       "      <td>False</td>\n",
       "      <td>0</td>\n",
       "      <td>299.4</td>\n",
       "      <td>71</td>\n",
       "      <td>50.90</td>\n",
       "      <td>61.9</td>\n",
       "      <td>88</td>\n",
       "      <td>5.26</td>\n",
       "      <td>196.9</td>\n",
       "      <td>89</td>\n",
       "      <td>8.86</td>\n",
       "      <td>6.6</td>\n",
       "      <td>7</td>\n",
       "      <td>1.78</td>\n",
       "      <td>2</td>\n",
       "      <td>False</td>\n",
       "    </tr>\n",
       "    <tr>\n",
       "      <th>4</th>\n",
       "      <td>75</td>\n",
       "      <td>415</td>\n",
       "      <td>True</td>\n",
       "      <td>False</td>\n",
       "      <td>0</td>\n",
       "      <td>166.7</td>\n",
       "      <td>113</td>\n",
       "      <td>28.34</td>\n",
       "      <td>148.3</td>\n",
       "      <td>122</td>\n",
       "      <td>12.61</td>\n",
       "      <td>186.9</td>\n",
       "      <td>121</td>\n",
       "      <td>8.41</td>\n",
       "      <td>10.1</td>\n",
       "      <td>3</td>\n",
       "      <td>2.73</td>\n",
       "      <td>3</td>\n",
       "      <td>False</td>\n",
       "    </tr>\n",
       "  </tbody>\n",
       "</table>\n",
       "</div>"
      ],
      "text/plain": [
       "   Account Length  Area Code Int'l Plan VMail Plan  VMail Message  Day Mins  \\\n",
       "0             128        415      False       True             25     265.1   \n",
       "1             107        415      False       True             26     161.6   \n",
       "2             137        415      False      False              0     243.4   \n",
       "3              84        408       True      False              0     299.4   \n",
       "4              75        415       True      False              0     166.7   \n",
       "\n",
       "   Day Calls  Day Charge  Eve Mins  Eve Calls  Eve Charge  Night Mins  \\\n",
       "0        110       45.07     197.4         99       16.78       244.7   \n",
       "1        123       27.47     195.5        103       16.62       254.4   \n",
       "2        114       41.38     121.2        110       10.30       162.6   \n",
       "3         71       50.90      61.9         88        5.26       196.9   \n",
       "4        113       28.34     148.3        122       12.61       186.9   \n",
       "\n",
       "   Night Calls  Night Charge  Intl Mins  Intl Calls  Intl Charge  \\\n",
       "0           91         11.01       10.0           3         2.70   \n",
       "1          103         11.45       13.7           3         3.70   \n",
       "2          104          7.32       12.2           5         3.29   \n",
       "3           89          8.86        6.6           7         1.78   \n",
       "4          121          8.41       10.1           3         2.73   \n",
       "\n",
       "   CustServ Calls Churn?  \n",
       "0               1  False  \n",
       "1               1  False  \n",
       "2               0  False  \n",
       "3               2  False  \n",
       "4               3  False  "
      ]
     },
     "execution_count": 19,
     "metadata": {},
     "output_type": "execute_result"
    }
   ],
   "source": [
    "# Clearing out non-continuous, non-boolean values\n",
    "df = df.select_dtypes(exclude=['object'])\n",
    "df.head()"
   ]
  },
  {
   "cell_type": "code",
   "execution_count": 20,
   "metadata": {
    "collapsed": false
   },
   "outputs": [],
   "source": [
    "# Prediction Array\n",
    "y = df.iloc[:,-1].values"
   ]
  },
  {
   "cell_type": "code",
   "execution_count": 75,
   "metadata": {
    "collapsed": true
   },
   "outputs": [],
   "source": [
    "# Predictor Matrix\n",
    "X = df.iloc[:,:-1].values\n",
    "\n",
    "# Scaling Predictors\n",
    "scaler = StandardScaler()\n",
    "X = scaler.fit_transform(X)"
   ]
  },
  {
   "cell_type": "code",
   "execution_count": 76,
   "metadata": {
    "collapsed": false
   },
   "outputs": [
    {
     "name": "stdout",
     "output_type": "stream",
     "text": [
      "3333\n",
      "483\n",
      "6.90062111801\n"
     ]
    }
   ],
   "source": [
    "# Let's see how unbalanced our classes are\n",
    "\n",
    "total_pred = len(y)   # 3333\n",
    "pos_pred = 0\n",
    "\n",
    "for n in y:\n",
    "    if n == True:\n",
    "        pos_pred += 1\n",
    "\n",
    "print total_pred\n",
    "print pos_pred\n",
    "\n",
    "scale = float(total_pred/pos_pred)\n",
    "print scale\n",
    "\n",
    "# our ratio is 6.9:1, which certainly warrants compensating"
   ]
  },
  {
   "cell_type": "code",
   "execution_count": 83,
   "metadata": {
    "collapsed": false
   },
   "outputs": [
    {
     "name": "stdout",
     "output_type": "stream",
     "text": [
      "Undersampled Logistic Regression Precision 0.36862745098\n",
      "Undersampled Logistic Regression Recall 0.783333333333\n"
     ]
    },
    {
     "name": "stderr",
     "output_type": "stream",
     "text": [
      "/Users/mt/anaconda/lib/python2.7/site-packages/ipykernel/__main__.py:15: DeprecationWarning: using a non-integer number instead of an integer will result in an error in the future\n"
     ]
    }
   ],
   "source": [
    "# Undersampling is a bad plan, let's try something else!\n",
    "\n",
    "def undersample(X, y, majority_weight=.5):\n",
    "    '''\n",
    "    randomly discards observations from majority class\n",
    "    so that output X, y have specified percentage of majority observations\n",
    "    '''\n",
    "    class_ratio = y.sum()/float(len(y))\n",
    "    majority_class_label = round(class_ratio)\n",
    "    X_majority = X[y==majority_class_label]\n",
    "    y_majority = y[y==majority_class_label]\n",
    "    maj_count = len(X_majority)\n",
    "    min_count = len(X) - maj_count\n",
    "    scaling_factor = (min_count/float(maj_count))*(majority_weight/(1-majority_weight))\n",
    "    sample_indices = np.random.choice(xrange(maj_count), \n",
    "                                      size=round(maj_count*scaling_factor),\n",
    "                                      replace=False)\n",
    "    X_majority = X_majority[sample_indices]\n",
    "    y_majority = y_majority[sample_indices]\n",
    "    X = np.vstack((X_majority, X[y!=majority_class_label]))\n",
    "    y = np.hstack((y_majority, y[y!=majority_class_label]))\n",
    "    return X, y\n",
    "\n",
    "X_undersampled, y_undersampled = undersample(X, y, majority_weight=.5)\n",
    "undersampled_model = LogisticRegression()\n",
    "undersampled_model.fit(X_undersampled, y_undersampled)\n",
    "y_pred = undersampled_model.predict(X_test)\n",
    "print 'Undersampled Logistic Regression Precision', precision_score(y_test, y_pred)\n",
    "print 'Undersampled Logistic Regression Recall', recall_score(y_test, y_pred)\n"
   ]
  },
  {
   "cell_type": "code",
   "execution_count": 84,
   "metadata": {
    "collapsed": false
   },
   "outputs": [
    {
     "name": "stdout",
     "output_type": "stream",
     "text": [
      "Oversampled Logistic Regression Precision 0.370078740157\n",
      "Oversampled Logistic Regression Recall 0.783333333333\n"
     ]
    }
   ],
   "source": [
    "# Also, not great results\n",
    "\n",
    "def oversample(X, y, minority_weight=.5):\n",
    "    '''\n",
    "    duplicates observations from minority class\n",
    "    so that output X, y have specified percentage of majority observations\n",
    "    '''\n",
    "    class_ratio = y.sum()/float(len(y))\n",
    "    majority_class_label = round(class_ratio)\n",
    "    X_minority = X[y!=majority_class_label]\n",
    "    y_minority = y[y!=majority_class_label]\n",
    "    min_count = len(X_minority)\n",
    "    maj_count = len(X) - min_count\n",
    "    scaling_factor = round((maj_count/float(min_count))*(minority_weight/(1-minority_weight)))\n",
    "    X_minority = np.tile(X_minority, (scaling_factor, 1))\n",
    "    y_minority = np.tile(y_minority, scaling_factor)\n",
    "    X = np.vstack((X_minority, X[y==majority_class_label]))\n",
    "    y = np.hstack((y_minority, y[y==majority_class_label]))\n",
    "    return X, y\n",
    "\n",
    "X_oversampled, y_oversampled = oversample(X, y, minority_weight=.5)\n",
    "oversampled_model = LogisticRegression()\n",
    "oversampled_model.fit(X_oversampled, y_oversampled)\n",
    "\n",
    "y_pred = oversampled_model.predict(X_test)\n",
    "print 'Oversampled Logistic Regression Precision', precision_score(y_test, y_pred)\n",
    "print 'Oversampled Logistic Regression Recall', recall_score(y_test, y_pred)"
   ]
  },
  {
   "cell_type": "code",
   "execution_count": 87,
   "metadata": {
    "collapsed": false
   },
   "outputs": [
    {
     "name": "stdout",
     "output_type": "stream",
     "text": [
      "SMOTE Logistic Regression Precision 0.366141732283\n",
      "SMOTE Logistic Regression Recall 0.775\n"
     ]
    }
   ],
   "source": [
    "# Using SMOTE to address class imbalance\n",
    "\n",
    "def smote(X, y, minority_weight=.5):\n",
    "    '''\n",
    "    generates new observations in minority class\n",
    "    so that output X, y have specified percentage of majority observations\n",
    "    '''\n",
    "    # compute number of new examples required\n",
    "    class_ratio = y.sum()/float(len(y))\n",
    "    majority_class_label = round(class_ratio)\n",
    "    X_minority = X[y!=majority_class_label]\n",
    "    y_minority = y[y!=majority_class_label]\n",
    "    min_count = len(X_minority)\n",
    "    maj_count = len(X) - min_count\n",
    "    scaling_factor = (maj_count/float(min_count))*(minority_weight/(1-minority_weight))\n",
    "    new_observations_target = round(scaling_factor*min_count) - min_count\n",
    "\n",
    "    # train KNN\n",
    "    knn_model = KNeighborsClassifier(n_neighbors=int(round(len(X_minority)**.5)))\n",
    "    knn_model.fit(X_minority, y_minority)\n",
    "    if new_observations_target < len(X_minority):\n",
    "        sample_indices = np.random.choice(xrange(X_minority), \n",
    "                                          size=new_observations_target,\n",
    "                                          replace=False)\n",
    "        smote_samples = X_minority[sample_indices]\n",
    "    else:\n",
    "        smote_samples = X_minority\n",
    "    neighbors = knn_model.kneighbors(smote_samples)[1]\n",
    "    \n",
    "    # generate new samples\n",
    "    new_observations = np.empty((0,X.shape[1]))\n",
    "    while len(new_observations) < new_observations_target:\n",
    "        index = len(new_observations) % len(smote_samples)\n",
    "        neighbor_index = np.random.choice(neighbors[index])\n",
    "        neighbor = smote_samples[neighbor_index]\n",
    "        x = X_minority[index]\n",
    "        new_x = x + (neighbor - x)*np.random.random(size=X_minority.shape[1])\n",
    "        new_observations = np.vstack((new_observations, new_x))\n",
    "    minority_class_label = (majority_class_label + 1) % 2\n",
    "    X = np.vstack((X, new_observations))\n",
    "    y = np.hstack((y, np.array([minority_class_label]*len(new_observations))))\n",
    "    \n",
    "    return X, y\n",
    "\n",
    "X_smote, y_smote = smote(X, y, minority_weight=.5)\n",
    "smote_model = LogisticRegression()\n",
    "smote_model.fit(X_smote, y_smote)\n",
    "y_pred = smote_model.predict(X_test)\n",
    "print 'SMOTE Logistic Regression Precision', precision_score(y_test, y_pred)\n",
    "print 'SMOTE Logistic Regression Recall', recall_score(y_test, y_pred)\n",
    "\n"
   ]
  },
  {
   "cell_type": "code",
   "execution_count": 97,
   "metadata": {
    "collapsed": true
   },
   "outputs": [],
   "source": [
    "X_train,X_test,y_train,y_test = train_test_split(X,y)"
   ]
  },
  {
   "cell_type": "code",
   "execution_count": 98,
   "metadata": {
    "collapsed": false
   },
   "outputs": [
    {
     "name": "stdout",
     "output_type": "stream",
     "text": [
      "Training Accuracy:  0.992396958784\n"
     ]
    }
   ],
   "source": [
    "# Train Accuracy - Unbalanced Classes Accuracy\n",
    "rf = RandomForestClassifier().fit(X_train,y_train)\n",
    "print \"Training Accuracy: \",rf.score(X_train,y_train)"
   ]
  },
  {
   "cell_type": "code",
   "execution_count": 99,
   "metadata": {
    "collapsed": false
   },
   "outputs": [
    {
     "name": "stdout",
     "output_type": "stream",
     "text": [
      "Test Accuracy:  0.868771929825\n"
     ]
    }
   ],
   "source": [
    "print \"Unbalanced Test Accuracy: \",rf.score(X_smote_test,y_smote_test)"
   ]
  },
  {
   "cell_type": "code",
   "execution_count": 100,
   "metadata": {
    "collapsed": false
   },
   "outputs": [
    {
     "name": "stdout",
     "output_type": "stream",
     "text": [
      "Training Accuracy:  0.991196478591\n"
     ]
    }
   ],
   "source": [
    "# Train Accuracy - simple weighting to balance\n",
    "rf = RandomForestClassifier(class_weight='auto').fit(X_train,y_train)\n",
    "print \"Weighted Training Accuracy: \",rf.score(X_train,y_train)"
   ]
  },
  {
   "cell_type": "code",
   "execution_count": 101,
   "metadata": {
    "collapsed": false
   },
   "outputs": [
    {
     "name": "stdout",
     "output_type": "stream",
     "text": [
      "Simple Weighted Test Accuracy:  0.875789473684\n"
     ]
    }
   ],
   "source": [
    "# Test Accuracy - simple weightng to balance\n",
    "print \"Simple Weighted Test Accuracy: \",rf.score(X_smote_test,y_smote_test)"
   ]
  },
  {
   "cell_type": "code",
   "execution_count": 94,
   "metadata": {
    "collapsed": true
   },
   "outputs": [],
   "source": [
    "X_smote_train,X_smote_test,y_smote_train,y_smote_test = train_test_split(X_smote,y_smote)"
   ]
  },
  {
   "cell_type": "code",
   "execution_count": 95,
   "metadata": {
    "collapsed": false
   },
   "outputs": [
    {
     "name": "stdout",
     "output_type": "stream",
     "text": [
      "Training Accuracy:  0.995789473684\n"
     ]
    }
   ],
   "source": [
    "# SMOTE class balances\n",
    "rf = RandomForestClassifier().fit(X_smote_train,y_smote_train)\n",
    "print \"Training Accuracy: \",rf.score(X_smote_train,y_smote_train)"
   ]
  },
  {
   "cell_type": "code",
   "execution_count": 102,
   "metadata": {
    "collapsed": false
   },
   "outputs": [
    {
     "name": "stdout",
     "output_type": "stream",
     "text": [
      "SMOTE Test Accuracy:  0.875789473684\n"
     ]
    }
   ],
   "source": [
    "# Test Accuracy: SMOTE\n",
    "\n",
    "print \"SMOTE Test Accuracy: \",rf.score(X_smote_test,y_smote_test)"
   ]
  },
  {
   "cell_type": "code",
   "execution_count": 74,
   "metadata": {
    "collapsed": false
   },
   "outputs": [
    {
     "name": "stdout",
     "output_type": "stream",
     "text": [
      "Normalized confusion matrix\n",
      "[[ 0.99439776  0.00560224]\n",
      " [ 0.44166667  0.55833333]]\n"
     ]
    },
    {
     "data": {
      "image/png": "[encoded data removed]",
      "text/plain": [
       "<matplotlib.figure.Figure at 0x10c006050>"
      ]
     },
     "metadata": {},
     "output_type": "display_data"
    }
   ],
   "source": [
    "# Compute confusion matrix\n",
    "\n",
    "y_pred = rf.predict(X_test)\n",
    "matrix = confusion_matrix(y_test, y_pred)\n",
    "norm_matrix = matrix.astype('float') / matrix.sum(axis=1)[:, np.newaxis]\n",
    "print('Normalized confusion matrix')\n",
    "print(norm_matrix)\n",
    "plt.figure()\n",
    "def plot_confusion_matrix(cm, title='Confusion matrix', cmap=plt.cm.Blues):\n",
    "    plt.imshow(cm, interpolation='nearest', cmap=cmap)\n",
    "    plt.title(title)\n",
    "    plt.colorbar()\n",
    "    plt.tight_layout()\n",
    "    plt.ylabel('True label')\n",
    "    plt.xlabel('Predicted label')\n",
    "plot_confusion_matrix(norm_matrix, title='Confusion Matrix')\n"
   ]
  },
  {
   "cell_type": "code",
   "execution_count": 49,
   "metadata": {
    "collapsed": false
   },
   "outputs": [
    {
     "name": "stdout",
     "output_type": "stream",
     "text": [
      "Percent of churn with predicted probability over 40% 0.788888888889\n",
      "Total number of predictions above threshold: 90\n",
      "Total number of predictions: 834\n"
     ]
    }
   ],
   "source": [
    "# Compare probabilities to predictions\n",
    "count = 0\n",
    "length = 0\n",
    "\n",
    "# There is probably a more elegant way to do this\n",
    "y_prob = rf.predict_proba(X_test)\n",
    "for i in range(len(y_prob)):\n",
    "    if y_prob[i][1] > .4:\n",
    "        length += 1\n",
    "        if y_pred[i] == True:\n",
    "            count += 1\n",
    "\n",
    "print \"Percent of churn with predicted probability over 40%\", (count/length) \n",
    "print \"Total number of predictions above threshold:\", length\n",
    "print \"Total number of predictions:\", len(y_pred)\n",
    "\n",
    "# This shows us that churn is already fairly low, and may help us understand why our recall\n",
    "# is so much worse than raw accuracy or precision. We are picking up false negatives which \n",
    "# are pushing our recall down\n",
    "\n",
    "    "
   ]
  },
  {
   "cell_type": "code",
   "execution_count": 50,
   "metadata": {
    "collapsed": false
   },
   "outputs": [
    {
     "name": "stdout",
     "output_type": "stream",
     "text": [
      "Precision: 0.943661971831\n",
      "Recall: 0.558333333333\n"
     ]
    }
   ],
   "source": [
    "print \"Precision:\",precision_score(y_test,y_pred)\n",
    "print \"Recall:\",recall_score(y_test,y_pred)\n"
   ]
  },
  {
   "cell_type": "code",
   "execution_count": 27,
   "metadata": {
    "collapsed": false
   },
   "outputs": [
    {
     "name": "stdout",
     "output_type": "stream",
     "text": [
      "Out of Bag Accuracy: 0.934773909564\n",
      "Raw Accuracy: 0.955635491607\n"
     ]
    }
   ],
   "source": [
    "rf_oob = RandomForestClassifier(n_estimators=20,oob_score=True).fit(X_train,y_train)\n",
    "print \"Out of Bag Accuracy:\",rf_oob.oob_score_\n",
    "print \"Raw Accuracy:\",rf_oob.score(X_test,y_test)"
   ]
  },
  {
   "cell_type": "code",
   "execution_count": 108,
   "metadata": {
    "collapsed": false
   },
   "outputs": [
    {
     "name": "stdout",
     "output_type": "stream",
     "text": [
      "SMOTE Balancing\n",
      "LOGISTIC REGRESSION\n",
      "Accuracy: 0.759121621622\n",
      "Precision: 0.727027027027\n",
      "Recall: 0.750434070434\n",
      "\n",
      "DECISION TREE\n",
      "Accuracy: 0.843291505792\n",
      "Precision: 0.848648648649\n",
      "Recall: 0.857166257166\n",
      "\n",
      "kNN\n",
      "Accuracy: 0.865773809524\n",
      "Precision: 0.863963963964\n",
      "Recall: 0.876027846028\n"
     ]
    }
   ],
   "source": [
    "# Comparisons with a few other models\n",
    "\n",
    "lr_metrics = []\n",
    "dt_metrics = []\n",
    "knn_metrics = []\n",
    "\n",
    "for train_index,test_index in KFold(len(y),10):\n",
    "    \n",
    "    ''' Logistic Regression '''\n",
    "    lr = LogisticRegression(class_weight='auto').fit(X_smote[train_index],y_smote[train_index])\n",
    "    lr_metrics.append(cross_val_score(lr,X_smote[test_index],y_smote[test_index]))\n",
    "    \n",
    "    ''' Decision Tree '''\n",
    "    dt = DecisionTreeClassifier(class_weight='auto').fit(X_smote[train_index],y_smote[train_index])\n",
    "    dt_metrics.append(cross_val_score(dt,X_smote[test_index],y_smote[test_index]))\n",
    "    \n",
    "\n",
    "    ''' kNN '''\n",
    "    knn = KNeighborsClassifier().fit(X_smote[train_index],y_smote[train_index])\n",
    "    knn_metrics.append(cross_val_score(knn,X_smote[test_index],y_smote[test_index]))\n",
    "\n",
    "    \n",
    "    \n",
    "print \"SMOTE Balancing\"    \n",
    "print \"LOGISTIC REGRESSION\"\n",
    "print \"Accuracy:\",np.array(lr_metrics)[:,0].mean()\n",
    "print \"Precision:\",np.array(lr_metrics)[:,1].mean()\n",
    "print \"Recall:\",np.array(lr_metrics)[:,2].mean()\n",
    "print \"\"\n",
    "print \"DECISION TREE\"\n",
    "print \"Accuracy:\",np.array(dt_metrics)[:,0].mean()\n",
    "print \"Precision:\",np.array(dt_metrics)[:,1].mean()\n",
    "print \"Recall:\",np.array(dt_metrics)[:,2].mean()\n",
    "print \"\"\n",
    "print \"kNN\"\n",
    "print \"Accuracy:\",np.array(knn_metrics)[:,0].mean()\n",
    "print \"Precision:\",np.array(knn_metrics)[:,1].mean()\n",
    "print \"Recall:\",np.array(knn_metrics)[:,2].mean()\n",
    "\n",
    "# These models are sacrificing some precision and accuracy for recall. Given that, as a \n",
    "# rule, false negatives will be the most expensive type of error (it is much more expensive to \n",
    "# find a new customer than keep an existing one), these models will probably make more \n",
    "# business sense"
   ]
  },
  {
   "cell_type": "code",
   "execution_count": 72,
   "metadata": {
    "collapsed": false
   },
   "outputs": [
    {
     "data": {
      "image/png": "[encoded data removed]",
      "text/plain": [
       "<matplotlib.figure.Figure at 0x10b26bf50>"
      ]
     },
     "metadata": {},
     "output_type": "display_data"
    }
   ],
   "source": [
    "# ROC curve funtion works on predicted probabilities\n",
    "\n",
    "tpr_rf, fpr_rf = roc_curve(rf,X_test,y_test)\n",
    "tpr_lr, fpr_lr = roc_curve(lr,X_test,y_test)\n",
    "tpr_dt, fpr_dt = roc_curve(dt,X_test,y_test)\n",
    "tpr_knn, fpr_knn = roc_curve(knn,X_test,y_test)\n",
    "\n",
    "plt.plot(fpr_rf, tpr_rf, c='r') # Random Forest\n",
    "plt.plot(fpr_lr, tpr_lr, c='g') # Logistic Regression\n",
    "plt.plot(fpr_dt, tpr_dt, c='b') # Decision Trees\n",
    "plt.plot(fpr_knn, tpr_knn, c='g') # kNN\n",
    "\n",
    "plt.xlabel(\"False Positive Rate (1 - Specificity)\")\n",
    "plt.ylabel(\"True Positive Rate (Sensitivity, Recall)\")\n",
    "plt.title(\"ROC plot (pre-fit)\");"
   ]
  },
  {
   "cell_type": "code",
   "execution_count": 73,
   "metadata": {
    "collapsed": false
   },
   "outputs": [
    {
     "data": {
      "image/png": "[encoded data removed]",
      "text/plain": [
       "<matplotlib.figure.Figure at 0x10b291c50>"
      ]
     },
     "metadata": {},
     "output_type": "display_data"
    }
   ],
   "source": [
    "tpr_rf, fpr_rf = roc_curve(RandomForestClassifier,X,y,fit=True)\n",
    "tpr_lr, fpr_lr = roc_curve(lr,X_test,y_test)\n",
    "tpr_dt, fpr_dt = roc_curve(DecisionTreeClassifier,X,y,fit=True)\n",
    "tpr_knn, fpr_knn = roc_curve(KNeighborsClassifier,X,y,fit=True)\n",
    "\n",
    "plt.plot(fpr_rf, tpr_rf, c='r') # Random Forest\n",
    "plt.plot(fpr_lr, tpr_lr, c='g') # Logistic Regression\n",
    "plt.plot(fpr_dt, tpr_dt, c='b') # Decision Trees\n",
    "plt.plot(fpr_knn, tpr_knn, c='g') # kNN\n",
    "\n",
    "plt.xlabel(\"False Positive Rate (1 - Specificity)\")\n",
    "plt.ylabel(\"True Positive Rate (Sensitivity, Recall)\")\n",
    "plt.title(\"ROC plot (with fit)\");"
   ]
  },
  {
   "cell_type": "code",
   "execution_count": null,
   "metadata": {
    "collapsed": true
   },
   "outputs": [],
   "source": []
  }
 ],
 "metadata": {
  "kernelspec": {
   "display_name": "Python 2",
   "language": "python",
   "name": "python2"
  },
  "language_info": {
   "codemirror_mode": {
    "name": "ipython",
    "version": 2
   },
   "file_extension": ".py",
   "mimetype": "text/x-python",
   "name": "python",
   "nbconvert_exporter": "python",
   "pygments_lexer": "ipython2",
   "version": "2.7.10"
  }
 },
 "nbformat": 4,
 "nbformat_minor": 0
}
