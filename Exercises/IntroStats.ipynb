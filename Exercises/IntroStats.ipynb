{
 "cells": [
  {
   "cell_type": "markdown",
   "metadata": {},
   "source": [
    "# DSCI6002 Final Exam  \n",
    "\n",
    "**Tuesday, October 13, 2015**"
   ]
  },
  {
   "cell_type": "markdown",
   "metadata": {},
   "source": [
    "## Exam Instructions - Please Read Carefully\n",
    "* This is an open book, open notes exam. You may refer to any of the course materials. \n",
    "* **All your work must be your own.** \n",
    "* Some questions are more difficult than others, and the questions may not appear in order of difficulty. Do not spend too much time on any one question; if you find a problem to be difficult, try another part of the problem or another problem and go back later.  \n",
    "* Show your work and explain your reasoning and/or calculations; the final answer is not as important as the process by which you arrived at that answer. Also, in case you make a mistake, we can more easily give you partial credit if you show/explain your steps.  \n",
    "* Some parts of a question may require the answer to an earlier part of the question. If you can’t solve the earlier part, you can still receive full credit for the later parts: make up a reasonable answer for the earlier part and use that in solving the later parts.  \n",
    "* **You have 240 minutes to complete this exam. Please email your exam answers to the course instructor at amy.yuan@galvanize.com by 6:00 PM PDT (9:00 PM EDT)**.\n",
    "* **Please do not hesitate to ask if you have any questions about the exam**, either in person or on Slack.  \n",
    "* Any announcements made during the exam will be posted on the \"**gu_sf_aug_6002**\" Slack channel."
   ]
  },
  {
   "cell_type": "markdown",
   "metadata": {},
   "source": [
    "### Question 1  \n",
    "\n",
    "a) Explain the difference between population parameters and sample statistics in 1 - 2 sentences.  "
   ]
  },
  {
   "cell_type": "markdown",
   "metadata": {},
   "source": [
    "Your answer: **_Population parameters are unknown, fixed quantities about the population; sample statistics are calculated from sample data, and their values vary from sample to sample._**"
   ]
  },
  {
   "cell_type": "markdown",
   "metadata": {},
   "source": [
    "b) For each of the following, write down whether it is a *population parameter* or a *sample statistic*."
   ]
  },
  {
   "cell_type": "markdown",
   "metadata": {},
   "source": [
    "i) $\\mu = \\sum_{i=1}^k x_i P(X = x_i)$"
   ]
  },
  {
   "cell_type": "markdown",
   "metadata": {},
   "source": [
    "Your answer: **_population parameter_**"
   ]
  },
  {
   "cell_type": "markdown",
   "metadata": {},
   "source": [
    "ii) $\\bar{x} = \\frac{1}{n} \\sum_{i=1}^n x_i$"
   ]
  },
  {
   "cell_type": "markdown",
   "metadata": {},
   "source": [
    "Your answer: **_sample statistic_**"
   ]
  },
  {
   "cell_type": "markdown",
   "metadata": {},
   "source": [
    "iii) $\\sigma^2 = \\sum_{i=1}^k (x_i - \\mu)^2 P(X = x_i)$"
   ]
  },
  {
   "cell_type": "markdown",
   "metadata": {},
   "source": [
    "Your answer: **_population parameter_** "
   ]
  },
  {
   "cell_type": "markdown",
   "metadata": {},
   "source": [
    "iv) $s^2 = \\frac{1}{n-1} \\sum_{i=1}^n (x_i - \\bar{x})^2$"
   ]
  },
  {
   "cell_type": "markdown",
   "metadata": {},
   "source": [
    "Your answer: **_sample statistic_**"
   ]
  },
  {
   "cell_type": "markdown",
   "metadata": {},
   "source": [
    "### Question 2\n",
    "\n",
    "In regression models, multicollinearity arises when the:  \n",
    "\n",
    "A) dependent variables are highly correlated with one another.  \n",
    "\n",
    "B) independent variables are highly correlated with one another.  \n",
    "\n",
    "C) independent variables are highly correlated with the dependent variable.  \n",
    "\n",
    "D) error terms do not have the same variance. "
   ]
  },
  {
   "cell_type": "markdown",
   "metadata": {},
   "source": [
    "Your answer (choose one from the above): **_B)_**"
   ]
  },
  {
   "cell_type": "markdown",
   "metadata": {},
   "source": [
    "### Question 3 \n",
    "\n",
    "Which of the labeled points below are outliers?   \n",
    "\n",
    "<img src=\"images/outliers.png\" width=\"400\">"
   ]
  },
  {
   "cell_type": "markdown",
   "metadata": {},
   "source": [
    "Your answer: **_A and C_**"
   ]
  },
  {
   "cell_type": "markdown",
   "metadata": {},
   "source": [
    "### Question 4\n",
    "\n",
    "In a regression model with two predictors $x_1$ and $x_2$, an interaction term may be used when:  \n",
    "\n",
    "A) the effect of $x_1$ on the dependent variable is influenced by $x_2$.  \n",
    "\n",
    "B) both the variables are independent variables.  \n",
    "\n",
    "C) both variables are influential to each other.  \n",
    "\n",
    "D) the effect of $x_2$ on the dependent variable is not influenced by $x_1$."
   ]
  },
  {
   "cell_type": "markdown",
   "metadata": {},
   "source": [
    "Your answer (choose one from the above): **_A)_**"
   ]
  },
  {
   "cell_type": "markdown",
   "metadata": {},
   "source": [
    "### Question 5\n",
    "\n",
    "Your younger sister and brother are strong believers in the tooth fairy. Whenever a baby tooth falls out, your sibling places it under his/her pillow before going to sleep, and in the morning the tooth fairy replaces it with cash. You observe this week that their baby teeth are close to falling out. Let $A$ be the event that one of your sister’s teeth will fall out today, and let $B$ be the event that one of your brother’s teeth will fall out today. You estimate that $P(A) = 0.3$ and $P(B) = 0.2$. Assume that for each sibling at most one tooth will fall out."
   ]
  },
  {
   "cell_type": "markdown",
   "metadata": {},
   "source": [
    "a) Assuming whether your brother’s tooth falls out is independent of whether your sister’s tooth falls out, the probability that neither falls out today is 0.56. Demonstrate with appropriate calculations why this is true."
   ]
  },
  {
   "cell_type": "markdown",
   "metadata": {},
   "source": [
    "Your answer:   \n",
    "\n",
    "$P(A^c \\cap B^c) = P(A^c) \\times P(B^c) = (1 - 0.3) \\times (1 -0.2) = 0.56 $ (by independence)"
   ]
  },
  {
   "cell_type": "markdown",
   "metadata": {},
   "source": [
    "b) Under the assumption of independence as in part (a), what is the probability that exactly one (i.e., not both) of your siblings’ teeth falls out today?"
   ]
  },
  {
   "cell_type": "markdown",
   "metadata": {},
   "source": [
    "Your answer:   \n",
    "\n",
    "$P(A \\cup B) - P(A \\cap B) = P(A) + P(B) - 2 \\times P(A \\cap B) = 0.3 + 0.2 - 2(0.3)(0.2) = 0.38$"
   ]
  },
  {
   "cell_type": "markdown",
   "metadata": {},
   "source": [
    "c) The tooth fairy replaces a tooth with cash with probability 0.25 independently from child to child. On a given night, 10 children in a town have placed teeth that have fallen out under their pillows. What is the probability that at least 1 of these 10 children is visited by the tooth fairy?"
   ]
  },
  {
   "cell_type": "markdown",
   "metadata": {},
   "source": [
    "Your answer:  \n",
    "\n",
    "Let $X$ be the number of children visited by the tooth fairy,  \n",
    "\n",
    "$X \\sim Binomial(n = 10, p = 0.25)$  \n",
    "\n",
    "$P(X \\geq 1) = 1 - P(X = 0) = 0.94$"
   ]
  },
  {
   "cell_type": "code",
   "execution_count": 1,
   "metadata": {
    "collapsed": false
   },
   "outputs": [
    {
     "data": {
      "text/plain": [
       "0.94368648529052734"
      ]
     },
     "execution_count": 1,
     "metadata": {},
     "output_type": "execute_result"
    }
   ],
   "source": [
    "import scipy.stats as ss  \n",
    "\n",
    "1 - ss.binom(10, 0.25).pmf(0)"
   ]
  },
  {
   "cell_type": "markdown",
   "metadata": {},
   "source": [
    "### Question 6\n",
    "\n",
    "Each part of this problem requires a short response with a brief explanation (simply yes or no will not suffice). Note: these parts are not related."
   ]
  },
  {
   "cell_type": "markdown",
   "metadata": {},
   "source": [
    "a) In a study of cold symptoms, every one of the 50 study subjects with a cold was found to be improved 2 weeks after taking ginger pills. The authors concluded that ginger pills cure colds. What is the major flaw in this study?"
   ]
  },
  {
   "cell_type": "markdown",
   "metadata": {},
   "source": [
    "Your answer: **_The major problem is that there is no control/comparison group. These subjects most likely\n",
    "would have improved within two weeks had they received no treatments whatsoever._**"
   ]
  },
  {
   "cell_type": "markdown",
   "metadata": {},
   "source": [
    "b) A confidence interval for $\\mu_y$ at $x^{*} = 6$ from a regression was calculated to be (11.52, 17.74). Which of the following options would be the calculated prediction interval for y at this particular $x^* = 6$ for this model based on the formula discussed in class (be sure to briefly explain why the other two are not correct): \n",
    "\n",
    "i. (8.20, 21.06)  \n",
    "\n",
    "ii. (12.71, 16.55)  \n",
    "\n",
    "iii. (9.92, 21.10)"
   ]
  },
  {
   "cell_type": "markdown",
   "metadata": {},
   "source": [
    "Your answer: **_ i. (8.20, 21.06). The prediction interval must be wider than the\n",
    "confidence interval (ruling out ii). Since our prediction interval and confidence\n",
    "interval at x* are both centered at the same place, the prediction interval should be centered at\n",
    "14.63, which rules out iii._** "
   ]
  },
  {
   "cell_type": "markdown",
   "metadata": {},
   "source": [
    "### Question 7 \n",
    "\n",
    "a) A friend recently moved to the Hobbiton village said it had rained on 30 of the 42 days since he moved there. Using this as a random sample, what is the 95% confidence interval for the true proportion of rainy days in the Hobbiton village?"
   ]
  },
  {
   "cell_type": "markdown",
   "metadata": {},
   "source": [
    "Your answer:   \n",
    "\n",
    "$\\hat{p} = \\frac{30}{42}$  \n",
    "$n = 42$  \n",
    "\n",
    "$ (\\hat{p} - 1.96 \\sqrt{\\frac{\\hat{p}(1 - \\hat{p})}{n}} \\text{, } \\hat{p} + 1.96 \\sqrt{\\frac{\\hat{p}(1 - \\hat{p})}{n}}) = (\\frac{30}{42} - 1.96 \\sqrt{\\frac{\\frac{30}{42}(1 - \\frac{30}{42})}{42}} \\text{, } \\frac{30}{42} + 1.96 \\sqrt{\\frac{\\frac{30}{42}(1 - \\frac{30}{42})}{42}}) = (0.58, 0.85)$\n"
   ]
  },
  {
   "cell_type": "markdown",
   "metadata": {},
   "source": [
    "b) I bragged that San Francisco's weather is much nicer (less rainy) than the Hobbiton village. In fact there has been rain on only 20 of the past 42 days in San Francisco. Perform a two-sample z-test for proportions to determine whether my claim that “San Francisco has fewer days with rain” is correct. Be sure to state the hypotheses, the test statistic, its p-value, and your conclusion."
   ]
  },
  {
   "cell_type": "markdown",
   "metadata": {},
   "source": [
    "Your answer:   \n",
    "\n",
    "$H_0: p_{SF} = p_{H}$  \n",
    "\n",
    "$H_a: p_{SF} < p_{H}$  \n",
    "\n",
    "$\\hat{p}_{SF} = 20/42$  \n",
    "$\\hat{p}_{H} = 30/42$  \n",
    "$n_1 = n_2 = 42$  \n",
    "\n",
    "$\\hat{p} = \\frac{20 + 30}{42 + 42} = 50/84$  \n",
    "\n",
    "$ t_{stat} = \\frac{(\\hat{p}_{SF} - \\hat{p}_{H})}{\\sqrt{\\hat{p}(1 - \\hat{p}) \\left(\\frac{1}{n_1} + \\frac{1}{n_2} \\right)}} = \\frac{(\\frac{20}{42} - \\frac{30}{42})}{\\sqrt{\\frac{50}{84}(1 - \\frac{50}{84}) \\left(\\frac{1}{42} + \\frac{1}{42} \\right)}} = -2.22 $  \n",
    "\n",
    "$\\text{p-value} = P(Z < -2.22) = 0.013 < 0.05$  "
   ]
  },
  {
   "cell_type": "code",
   "execution_count": 3,
   "metadata": {
    "collapsed": false
   },
   "outputs": [
    {
     "data": {
      "text/plain": [
       "0.01320938380725627"
      ]
     },
     "execution_count": 3,
     "metadata": {},
     "output_type": "execute_result"
    }
   ],
   "source": [
    "ss.norm.cdf(-2.22)"
   ]
  },
  {
   "cell_type": "markdown",
   "metadata": {},
   "source": [
    "We have very strong evidence to conclude that San Francisco has fewer days with rain than the Hobbiton village."
   ]
  },
  {
   "cell_type": "markdown",
   "metadata": {},
   "source": [
    "### Question 8\n",
    "\n",
    "In a survey, students were asked to report their sex and the fastest speed they had ever driven. The speed response was categorized into three categories: never (never driven), slow (have driven, but never as fast as 100mph), and fast (driven at speeds 100mph or faster). Below is the contingency table for the data:\n",
    "\n",
    "<img src=\"images/contingency.png\" width=\"600\">  \n",
    "\n",
    "Perform a chi-squared test to determine whether driving category is independent of sex. Be sure to state the hypotheses, the p-value, and your conclusion."
   ]
  },
  {
   "cell_type": "markdown",
   "metadata": {},
   "source": [
    "Your answer:   \n",
    "\n",
    "$H_0$: driving category and sex are independent  \n",
    "\n",
    "$H_a$: driving category and sex are not independent  "
   ]
  },
  {
   "cell_type": "code",
   "execution_count": 7,
   "metadata": {
    "collapsed": false
   },
   "outputs": [
    {
     "data": {
      "text/plain": [
       "0.007120643774498202"
      ]
     },
     "execution_count": 7,
     "metadata": {},
     "output_type": "execute_result"
    }
   ],
   "source": [
    "import numpy as np\n",
    "\n",
    "data = np.array([[8, 24, 7],\n",
    "                 [4, 16, 21]])\n",
    "ss.chi2_contingency(data)[1]"
   ]
  },
  {
   "cell_type": "markdown",
   "metadata": {},
   "source": [
    "$\\text{p-value} = 0.007 < 0.05$  \n",
    "\n",
    "We reject the null hypothesis and conclude that driving category and sex are not independent."
   ]
  },
  {
   "cell_type": "markdown",
   "metadata": {},
   "source": [
    "### Question 9\n",
    "\n",
    "In a market analysis study, we want to predict whether a customer would be interested in a new product ($y = 1$ if interested; $y = 0$ if not interested) using the customer's gender ($x_1 = 1$ for female; $x_1 = 0$ for male) and income ($x_2$).  \n",
    "\n",
    "a) What model should we use to make the prediction?"
   ]
  },
  {
   "cell_type": "markdown",
   "metadata": {},
   "source": [
    "Your answer: **_Logistic regression_**"
   ]
  },
  {
   "cell_type": "markdown",
   "metadata": {},
   "source": [
    "b) The model coefficients are estimated to be: $b_0 = 1.5, b_1 = -3.4, b_2 = 0.8$. Write out the model equation."
   ]
  },
  {
   "cell_type": "markdown",
   "metadata": {},
   "source": [
    "Your answer:   \n",
    "\n",
    "$\\hat{p} = \\hat{P}(y = 1) = \\frac{e^{1.5 - 3.4 x_1 + 0.8 x_2}}{1 + e^{1.5 - 3.4 x_1 + 0.8 x_2}}$  "
   ]
  },
  {
   "cell_type": "markdown",
   "metadata": {},
   "source": [
    "c) Interpret $b_1$ and $b_2$ in the model above."
   ]
  },
  {
   "cell_type": "markdown",
   "metadata": {},
   "source": [
    "Your answer:  \n",
    "\n",
    "* **_Female customers are less likely to be interested in the new product, holding income constant._** \n",
    "\n",
    "* **_Holding gender constant, the higher the income, the more likely that the customer is interestd in the new product._**"
   ]
  },
  {
   "cell_type": "markdown",
   "metadata": {},
   "source": [
    "### Question  10\n",
    "\n",
    "For this problem, we want to model a nation’s per capita GDP (in American dollars) using that country’s literacy rate and whether or not it is a developing country. The data is in `data/gdp.csv`. "
   ]
  },
  {
   "cell_type": "markdown",
   "metadata": {},
   "source": [
    "a) Fit the model and write out the regression equation."
   ]
  },
  {
   "cell_type": "markdown",
   "metadata": {},
   "source": [
    "Your answer:   \n",
    "\n",
    "$\\hat{GDP} = -29540 + 454.9542 (literacy) + 9816 (developing) $"
   ]
  },
  {
   "cell_type": "code",
   "execution_count": 8,
   "metadata": {
    "collapsed": true
   },
   "outputs": [],
   "source": [
    "import pandas as pd\n",
    "import matplotlib.pyplot as plt\n",
    "import statsmodels.formula.api as smf\n",
    "%matplotlib inline"
   ]
  },
  {
   "cell_type": "code",
   "execution_count": 10,
   "metadata": {
    "collapsed": false
   },
   "outputs": [
    {
     "data": {
      "text/html": [
       "<div>\n",
       "<table border=\"1\" class=\"dataframe\">\n",
       "  <thead>\n",
       "    <tr style=\"text-align: right;\">\n",
       "      <th></th>\n",
       "      <th>Country</th>\n",
       "      <th>Literacy</th>\n",
       "      <th>GDP</th>\n",
       "      <th>HDI</th>\n",
       "      <th>developing</th>\n",
       "    </tr>\n",
       "  </thead>\n",
       "  <tbody>\n",
       "    <tr>\n",
       "      <th>0</th>\n",
       "      <td>Albania</td>\n",
       "      <td>98.7</td>\n",
       "      <td>2673</td>\n",
       "      <td>0.784</td>\n",
       "      <td>0</td>\n",
       "    </tr>\n",
       "    <tr>\n",
       "      <th>1</th>\n",
       "      <td>Algeria</td>\n",
       "      <td>69.8</td>\n",
       "      <td>3086</td>\n",
       "      <td>0.728</td>\n",
       "      <td>0</td>\n",
       "    </tr>\n",
       "    <tr>\n",
       "      <th>2</th>\n",
       "      <td>Angola</td>\n",
       "      <td>66.8</td>\n",
       "      <td>2129</td>\n",
       "      <td>0.439</td>\n",
       "      <td>0</td>\n",
       "    </tr>\n",
       "    <tr>\n",
       "      <th>3</th>\n",
       "      <td>AntiguaandBarbuda</td>\n",
       "      <td>85.8</td>\n",
       "      <td>10727</td>\n",
       "      <td>0.808</td>\n",
       "      <td>0</td>\n",
       "    </tr>\n",
       "    <tr>\n",
       "      <th>4</th>\n",
       "      <td>Argentina</td>\n",
       "      <td>97.2</td>\n",
       "      <td>4799</td>\n",
       "      <td>0.863</td>\n",
       "      <td>0</td>\n",
       "    </tr>\n",
       "  </tbody>\n",
       "</table>\n",
       "</div>"
      ],
      "text/plain": [
       "             Country  Literacy    GDP    HDI  developing\n",
       "0            Albania      98.7   2673  0.784           0\n",
       "1            Algeria      69.8   3086  0.728           0\n",
       "2             Angola      66.8   2129  0.439           0\n",
       "3  AntiguaandBarbuda      85.8  10727  0.808           0\n",
       "4          Argentina      97.2   4799  0.863           0"
      ]
     },
     "execution_count": 10,
     "metadata": {},
     "output_type": "execute_result"
    }
   ],
   "source": [
    "gdp = pd.read_csv('data/gdp.csv')\n",
    "gdp.head()"
   ]
  },
  {
   "cell_type": "code",
   "execution_count": 12,
   "metadata": {
    "collapsed": false
   },
   "outputs": [
    {
     "data": {
      "text/html": [
       "<table class=\"simpletable\">\n",
       "<caption>OLS Regression Results</caption>\n",
       "<tr>\n",
       "  <th>Dep. Variable:</th>           <td>GDP</td>       <th>  R-squared:         </th> <td>   0.208</td>\n",
       "</tr>\n",
       "<tr>\n",
       "  <th>Model:</th>                   <td>OLS</td>       <th>  Adj. R-squared:    </th> <td>   0.199</td>\n",
       "</tr>\n",
       "<tr>\n",
       "  <th>Method:</th>             <td>Least Squares</td>  <th>  F-statistic:       </th> <td>   22.11</td>\n",
       "</tr>\n",
       "<tr>\n",
       "  <th>Date:</th>             <td>Tue, 13 Oct 2015</td> <th>  Prob (F-statistic):</th> <td>3.00e-09</td>\n",
       "</tr>\n",
       "<tr>\n",
       "  <th>Time:</th>                 <td>17:34:18</td>     <th>  Log-Likelihood:    </th> <td> -1858.6</td>\n",
       "</tr>\n",
       "<tr>\n",
       "  <th>No. Observations:</th>      <td>   171</td>      <th>  AIC:               </th> <td>   3723.</td>\n",
       "</tr>\n",
       "<tr>\n",
       "  <th>Df Residuals:</th>          <td>   168</td>      <th>  BIC:               </th> <td>   3733.</td>\n",
       "</tr>\n",
       "<tr>\n",
       "  <th>Df Model:</th>              <td>     2</td>      <th>                     </th>     <td> </td>   \n",
       "</tr>\n",
       "<tr>\n",
       "  <th>Covariance Type:</th>      <td>nonrobust</td>    <th>                     </th>     <td> </td>   \n",
       "</tr>\n",
       "</table>\n",
       "<table class=\"simpletable\">\n",
       "<tr>\n",
       "       <td></td>         <th>coef</th>     <th>std err</th>      <th>t</th>      <th>P>|t|</th> <th>[95.0% Conf. Int.]</th> \n",
       "</tr>\n",
       "<tr>\n",
       "  <th>Intercept</th>  <td>-2.954e+04</td> <td> 7866.063</td> <td>   -3.756</td> <td> 0.000</td> <td>-4.51e+04  -1.4e+04</td>\n",
       "</tr>\n",
       "<tr>\n",
       "  <th>Literacy</th>   <td>  454.9542</td> <td>   87.095</td> <td>    5.224</td> <td> 0.000</td> <td>  283.013   626.895</td>\n",
       "</tr>\n",
       "<tr>\n",
       "  <th>developing</th> <td> 9816.0000</td> <td> 4683.318</td> <td>    2.096</td> <td> 0.038</td> <td>  570.263  1.91e+04</td>\n",
       "</tr>\n",
       "</table>\n",
       "<table class=\"simpletable\">\n",
       "<tr>\n",
       "  <th>Omnibus:</th>       <td>76.579</td> <th>  Durbin-Watson:     </th> <td>   1.910</td>\n",
       "</tr>\n",
       "<tr>\n",
       "  <th>Prob(Omnibus):</th> <td> 0.000</td> <th>  Jarque-Bera (JB):  </th> <td> 238.771</td>\n",
       "</tr>\n",
       "<tr>\n",
       "  <th>Skew:</th>          <td> 1.848</td> <th>  Prob(JB):          </th> <td>1.42e-52</td>\n",
       "</tr>\n",
       "<tr>\n",
       "  <th>Kurtosis:</th>      <td> 7.456</td> <th>  Cond. No.          </th> <td>    764.</td>\n",
       "</tr>\n",
       "</table>"
      ],
      "text/plain": [
       "<class 'statsmodels.iolib.summary.Summary'>\n",
       "\"\"\"\n",
       "                            OLS Regression Results                            \n",
       "==============================================================================\n",
       "Dep. Variable:                    GDP   R-squared:                       0.208\n",
       "Model:                            OLS   Adj. R-squared:                  0.199\n",
       "Method:                 Least Squares   F-statistic:                     22.11\n",
       "Date:                Tue, 13 Oct 2015   Prob (F-statistic):           3.00e-09\n",
       "Time:                        17:34:18   Log-Likelihood:                -1858.6\n",
       "No. Observations:                 171   AIC:                             3723.\n",
       "Df Residuals:                     168   BIC:                             3733.\n",
       "Df Model:                           2                                         \n",
       "Covariance Type:            nonrobust                                         \n",
       "==============================================================================\n",
       "                 coef    std err          t      P>|t|      [95.0% Conf. Int.]\n",
       "------------------------------------------------------------------------------\n",
       "Intercept  -2.954e+04   7866.063     -3.756      0.000     -4.51e+04  -1.4e+04\n",
       "Literacy     454.9542     87.095      5.224      0.000       283.013   626.895\n",
       "developing  9816.0000   4683.318      2.096      0.038       570.263  1.91e+04\n",
       "==============================================================================\n",
       "Omnibus:                       76.579   Durbin-Watson:                   1.910\n",
       "Prob(Omnibus):                  0.000   Jarque-Bera (JB):              238.771\n",
       "Skew:                           1.848   Prob(JB):                     1.42e-52\n",
       "Kurtosis:                       7.456   Cond. No.                         764.\n",
       "==============================================================================\n",
       "\n",
       "Warnings:\n",
       "[1] Standard Errors assume that the covariance matrix of the errors is correctly specified.\n",
       "\"\"\""
      ]
     },
     "execution_count": 12,
     "metadata": {},
     "output_type": "execute_result"
    }
   ],
   "source": [
    "model = smf.ols(formula = 'GDP ~ Literacy + developing', data = gdp).fit()\n",
    "model.summary()"
   ]
  },
  {
   "cell_type": "markdown",
   "metadata": {},
   "source": [
    "b) Check if the model assumptions are met. Transform the variable(s) if necessary."
   ]
  },
  {
   "cell_type": "markdown",
   "metadata": {},
   "source": [
    "Your answer:  \n",
    "\n",
    "Model after transformation: $\\hat{log(GDP)} = 2.9432 + 0.0606(literacy) + 0.4854(developing)$"
   ]
  },
  {
   "cell_type": "code",
   "execution_count": 28,
   "metadata": {
    "collapsed": false
   },
   "outputs": [
    {
     "data": {
      "image/png": "[encoded data removed]",
      "text/plain": [
       "<matplotlib.figure.Figure at 0x10a21fe10>"
      ]
     },
     "metadata": {},
     "output_type": "display_data"
    }
   ],
   "source": [
    "fitted = model.fittedvalues\n",
    "sres = model.resid_pearson\n",
    "\n",
    "plt.scatter(fitted, sres);"
   ]
  },
  {
   "cell_type": "markdown",
   "metadata": {},
   "source": [
    "* The residuals do not look random - linearity assumption is not met  \n",
    "\n",
    "* The variance of the residuals do not look constant"
   ]
  },
  {
   "cell_type": "code",
   "execution_count": 29,
   "metadata": {
    "collapsed": false
   },
   "outputs": [
    {
     "data": {
      "text/plain": [
       "0.001118696557360125"
      ]
     },
     "execution_count": 29,
     "metadata": {},
     "output_type": "execute_result"
    }
   ],
   "source": [
    "from statsmodels.stats.diagnostic import het_breushpagan\n",
    "\n",
    "# numerical test for unequal variance\n",
    "het_breushpagan(model.resid, model.model.exog)[1]"
   ]
  },
  {
   "cell_type": "markdown",
   "metadata": {},
   "source": [
    "* The test result also suggests that the residuals do not have constant variance"
   ]
  },
  {
   "cell_type": "code",
   "execution_count": 30,
   "metadata": {
    "collapsed": false
   },
   "outputs": [
    {
     "data": {
      "image/png": "[encoded data removed]",
      "text/plain": [
       "<matplotlib.figure.Figure at 0x10ae07d10>"
      ]
     },
     "metadata": {},
     "output_type": "display_data"
    }
   ],
   "source": [
    "from statsmodels.graphics.gofplots import qqplot\n",
    "\n",
    "qqplot(sres);\n",
    "q = np.linspace(-3, 3)\n",
    "plt.plot(q, q, color='r')\n",
    "plt.show()"
   ]
  },
  {
   "cell_type": "markdown",
   "metadata": {},
   "source": [
    "* The Q-Q plot shows the residuals are not Normally distributed  \n",
    "\n",
    "* The JB test from the regression output also provides extremely strong evidence (p-value = 1.42e-52) against the Normality assumption"
   ]
  },
  {
   "cell_type": "markdown",
   "metadata": {},
   "source": [
    "We will try the log transformation on `GDP`."
   ]
  },
  {
   "cell_type": "code",
   "execution_count": 34,
   "metadata": {
    "collapsed": false
   },
   "outputs": [
    {
     "data": {
      "text/html": [
       "<table class=\"simpletable\">\n",
       "<caption>OLS Regression Results</caption>\n",
       "<tr>\n",
       "  <th>Dep. Variable:</th>         <td>logGDP</td>      <th>  R-squared:         </th> <td>   0.446</td>\n",
       "</tr>\n",
       "<tr>\n",
       "  <th>Model:</th>                   <td>OLS</td>       <th>  Adj. R-squared:    </th> <td>   0.439</td>\n",
       "</tr>\n",
       "<tr>\n",
       "  <th>Method:</th>             <td>Least Squares</td>  <th>  F-statistic:       </th> <td>   67.64</td>\n",
       "</tr>\n",
       "<tr>\n",
       "  <th>Date:</th>             <td>Wed, 14 Oct 2015</td> <th>  Prob (F-statistic):</th> <td>2.83e-22</td>\n",
       "</tr>\n",
       "<tr>\n",
       "  <th>Time:</th>                 <td>08:56:25</td>     <th>  Log-Likelihood:    </th> <td> -275.88</td>\n",
       "</tr>\n",
       "<tr>\n",
       "  <th>No. Observations:</th>      <td>   171</td>      <th>  AIC:               </th> <td>   557.8</td>\n",
       "</tr>\n",
       "<tr>\n",
       "  <th>Df Residuals:</th>          <td>   168</td>      <th>  BIC:               </th> <td>   567.2</td>\n",
       "</tr>\n",
       "<tr>\n",
       "  <th>Df Model:</th>              <td>     2</td>      <th>                     </th>     <td> </td>   \n",
       "</tr>\n",
       "<tr>\n",
       "  <th>Covariance Type:</th>      <td>nonrobust</td>    <th>                     </th>     <td> </td>   \n",
       "</tr>\n",
       "</table>\n",
       "<table class=\"simpletable\">\n",
       "<tr>\n",
       "       <td></td>         <th>coef</th>     <th>std err</th>      <th>t</th>      <th>P>|t|</th> <th>[95.0% Conf. Int.]</th> \n",
       "</tr>\n",
       "<tr>\n",
       "  <th>Intercept</th>  <td>    2.9432</td> <td>    0.752</td> <td>    3.916</td> <td> 0.000</td> <td>    1.459     4.427</td>\n",
       "</tr>\n",
       "<tr>\n",
       "  <th>Literacy</th>   <td>    0.0606</td> <td>    0.008</td> <td>    7.280</td> <td> 0.000</td> <td>    0.044     0.077</td>\n",
       "</tr>\n",
       "<tr>\n",
       "  <th>developing</th> <td>    0.4854</td> <td>    0.448</td> <td>    1.085</td> <td> 0.280</td> <td>   -0.398     1.369</td>\n",
       "</tr>\n",
       "</table>\n",
       "<table class=\"simpletable\">\n",
       "<tr>\n",
       "  <th>Omnibus:</th>       <td> 3.237</td> <th>  Durbin-Watson:     </th> <td>   1.923</td>\n",
       "</tr>\n",
       "<tr>\n",
       "  <th>Prob(Omnibus):</th> <td> 0.198</td> <th>  Jarque-Bera (JB):  </th> <td>   2.605</td>\n",
       "</tr>\n",
       "<tr>\n",
       "  <th>Skew:</th>          <td>-0.180</td> <th>  Prob(JB):          </th> <td>   0.272</td>\n",
       "</tr>\n",
       "<tr>\n",
       "  <th>Kurtosis:</th>      <td> 2.514</td> <th>  Cond. No.          </th> <td>    764.</td>\n",
       "</tr>\n",
       "</table>"
      ],
      "text/plain": [
       "<class 'statsmodels.iolib.summary.Summary'>\n",
       "\"\"\"\n",
       "                            OLS Regression Results                            \n",
       "==============================================================================\n",
       "Dep. Variable:                 logGDP   R-squared:                       0.446\n",
       "Model:                            OLS   Adj. R-squared:                  0.439\n",
       "Method:                 Least Squares   F-statistic:                     67.64\n",
       "Date:                Wed, 14 Oct 2015   Prob (F-statistic):           2.83e-22\n",
       "Time:                        08:56:25   Log-Likelihood:                -275.88\n",
       "No. Observations:                 171   AIC:                             557.8\n",
       "Df Residuals:                     168   BIC:                             567.2\n",
       "Df Model:                           2                                         \n",
       "Covariance Type:            nonrobust                                         \n",
       "==============================================================================\n",
       "                 coef    std err          t      P>|t|      [95.0% Conf. Int.]\n",
       "------------------------------------------------------------------------------\n",
       "Intercept      2.9432      0.752      3.916      0.000         1.459     4.427\n",
       "Literacy       0.0606      0.008      7.280      0.000         0.044     0.077\n",
       "developing     0.4854      0.448      1.085      0.280        -0.398     1.369\n",
       "==============================================================================\n",
       "Omnibus:                        3.237   Durbin-Watson:                   1.923\n",
       "Prob(Omnibus):                  0.198   Jarque-Bera (JB):                2.605\n",
       "Skew:                          -0.180   Prob(JB):                        0.272\n",
       "Kurtosis:                       2.514   Cond. No.                         764.\n",
       "==============================================================================\n",
       "\n",
       "Warnings:\n",
       "[1] Standard Errors assume that the covariance matrix of the errors is correctly specified.\n",
       "\"\"\""
      ]
     },
     "execution_count": 34,
     "metadata": {},
     "output_type": "execute_result"
    }
   ],
   "source": [
    "gdp['logGDP'] = np.log(gdp['GDP'])\n",
    "\n",
    "model2 = smf.ols(formula = 'logGDP ~ Literacy + developing', data = gdp).fit()\n",
    "model2.summary()"
   ]
  },
  {
   "cell_type": "code",
   "execution_count": 25,
   "metadata": {
    "collapsed": false
   },
   "outputs": [
    {
     "data": {
      "image/png": "[encoded data removed]",
      "text/plain": [
       "<matplotlib.figure.Figure at 0x10a54e650>"
      ]
     },
     "metadata": {},
     "output_type": "display_data"
    }
   ],
   "source": [
    "fitted2 = model2.fittedvalues\n",
    "sres2 = model2.resid_pearson\n",
    "\n",
    "plt.scatter(fitted2, sres2);"
   ]
  },
  {
   "cell_type": "code",
   "execution_count": 26,
   "metadata": {
    "collapsed": false
   },
   "outputs": [
    {
     "data": {
      "image/png": "[encoded data removed]",
      "text/plain": [
       "<matplotlib.figure.Figure at 0x10a229850>"
      ]
     },
     "metadata": {},
     "output_type": "display_data"
    }
   ],
   "source": [
    "qqplot(sres2);\n",
    "q = np.linspace(-3, 3)\n",
    "plt.plot(q, q, color='r')\n",
    "plt.show()"
   ]
  },
  {
   "cell_type": "code",
   "execution_count": 27,
   "metadata": {
    "collapsed": false
   },
   "outputs": [
    {
     "data": {
      "text/plain": [
       "0.070323159419770007"
      ]
     },
     "execution_count": 27,
     "metadata": {},
     "output_type": "execute_result"
    }
   ],
   "source": [
    "het_breushpagan(model2.resid, model2.model.exog)[1]"
   ]
  },
  {
   "cell_type": "markdown",
   "metadata": {},
   "source": [
    "* Residuals plot improved  \n",
    "\n",
    "* The heteroscedasticity test fails to show evidence of unequal variance  \n",
    "\n",
    "* The Q-Q plot and the JB test do not show non-Normality"
   ]
  },
  {
   "cell_type": "markdown",
   "metadata": {},
   "source": [
    "c) Does the model fit the data well? Explain."
   ]
  },
  {
   "cell_type": "markdown",
   "metadata": {},
   "source": [
    "Your answer: **_The model after transformation explains about 44.6% of the variation in GDP - not a great fit_**"
   ]
  },
  {
   "cell_type": "markdown",
   "metadata": {},
   "source": [
    "d) Interpret the model coefficients."
   ]
  },
  {
   "cell_type": "code",
   "execution_count": 32,
   "metadata": {
    "collapsed": false
   },
   "outputs": [
    {
     "data": {
      "text/plain": [
       "1.062473839642097"
      ]
     },
     "execution_count": 32,
     "metadata": {},
     "output_type": "execute_result"
    }
   ],
   "source": [
    "np.exp(0.0606)"
   ]
  },
  {
   "cell_type": "code",
   "execution_count": 33,
   "metadata": {
    "collapsed": false
   },
   "outputs": [
    {
     "data": {
      "text/plain": [
       "1.624824808799094"
      ]
     },
     "execution_count": 33,
     "metadata": {},
     "output_type": "execute_result"
    }
   ],
   "source": [
    "np.exp(0.4854)"
   ]
  },
  {
   "cell_type": "markdown",
   "metadata": {},
   "source": [
    "Your answer:  \n",
    "\n",
    "* **_Holding `developing` constant, GDP increases by 6%, on average, as literacy rate goes up by 1%._** \n",
    "\n",
    "* **_Holding `Literacy` constant, the average GDP is about 62.5% higher for developing countries than developed countries._** (This may seem strange, as we would expect the GDP to be higher for developed countries, but keep in mind that we have fixed the literacy rate, so for developing and developed countries with the same literacy rate, the average GDP of the developing countries is in fact higher. Of course if we don't keep literacy rate fixed, the average GDP for developed countries is higher - see the example below.)"
   ]
  },
  {
   "cell_type": "code",
   "execution_count": 38,
   "metadata": {
    "collapsed": false
   },
   "outputs": [
    {
     "data": {
      "text/html": [
       "<table class=\"simpletable\">\n",
       "<caption>OLS Regression Results</caption>\n",
       "<tr>\n",
       "  <th>Dep. Variable:</th>         <td>logGDP</td>      <th>  R-squared:         </th> <td>   0.271</td>\n",
       "</tr>\n",
       "<tr>\n",
       "  <th>Model:</th>                   <td>OLS</td>       <th>  Adj. R-squared:    </th> <td>   0.267</td>\n",
       "</tr>\n",
       "<tr>\n",
       "  <th>Method:</th>             <td>Least Squares</td>  <th>  F-statistic:       </th> <td>   62.91</td>\n",
       "</tr>\n",
       "<tr>\n",
       "  <th>Date:</th>             <td>Wed, 14 Oct 2015</td> <th>  Prob (F-statistic):</th> <td>2.82e-13</td>\n",
       "</tr>\n",
       "<tr>\n",
       "  <th>Time:</th>                 <td>09:04:00</td>     <th>  Log-Likelihood:    </th> <td> -299.33</td>\n",
       "</tr>\n",
       "<tr>\n",
       "  <th>No. Observations:</th>      <td>   171</td>      <th>  AIC:               </th> <td>   602.7</td>\n",
       "</tr>\n",
       "<tr>\n",
       "  <th>Df Residuals:</th>          <td>   169</td>      <th>  BIC:               </th> <td>   608.9</td>\n",
       "</tr>\n",
       "<tr>\n",
       "  <th>Df Model:</th>              <td>     1</td>      <th>                     </th>     <td> </td>   \n",
       "</tr>\n",
       "<tr>\n",
       "  <th>Covariance Type:</th>      <td>nonrobust</td>    <th>                     </th>     <td> </td>   \n",
       "</tr>\n",
       "</table>\n",
       "<table class=\"simpletable\">\n",
       "<tr>\n",
       "       <td></td>         <th>coef</th>     <th>std err</th>      <th>t</th>      <th>P>|t|</th> <th>[95.0% Conf. Int.]</th> \n",
       "</tr>\n",
       "<tr>\n",
       "  <th>Intercept</th>  <td>    8.3640</td> <td>    0.118</td> <td>   70.876</td> <td> 0.000</td> <td>    8.131     8.597</td>\n",
       "</tr>\n",
       "<tr>\n",
       "  <th>developing</th> <td>   -2.2347</td> <td>    0.282</td> <td>   -7.932</td> <td> 0.000</td> <td>   -2.791    -1.679</td>\n",
       "</tr>\n",
       "</table>\n",
       "<table class=\"simpletable\">\n",
       "<tr>\n",
       "  <th>Omnibus:</th>       <td> 2.219</td> <th>  Durbin-Watson:     </th> <td>   1.903</td>\n",
       "</tr>\n",
       "<tr>\n",
       "  <th>Prob(Omnibus):</th> <td> 0.330</td> <th>  Jarque-Bera (JB):  </th> <td>   1.836</td>\n",
       "</tr>\n",
       "<tr>\n",
       "  <th>Skew:</th>          <td>-0.115</td> <th>  Prob(JB):          </th> <td>   0.399</td>\n",
       "</tr>\n",
       "<tr>\n",
       "  <th>Kurtosis:</th>      <td> 2.547</td> <th>  Cond. No.          </th> <td>    2.72</td>\n",
       "</tr>\n",
       "</table>"
      ],
      "text/plain": [
       "<class 'statsmodels.iolib.summary.Summary'>\n",
       "\"\"\"\n",
       "                            OLS Regression Results                            \n",
       "==============================================================================\n",
       "Dep. Variable:                 logGDP   R-squared:                       0.271\n",
       "Model:                            OLS   Adj. R-squared:                  0.267\n",
       "Method:                 Least Squares   F-statistic:                     62.91\n",
       "Date:                Wed, 14 Oct 2015   Prob (F-statistic):           2.82e-13\n",
       "Time:                        09:04:00   Log-Likelihood:                -299.33\n",
       "No. Observations:                 171   AIC:                             602.7\n",
       "Df Residuals:                     169   BIC:                             608.9\n",
       "Df Model:                           1                                         \n",
       "Covariance Type:            nonrobust                                         \n",
       "==============================================================================\n",
       "                 coef    std err          t      P>|t|      [95.0% Conf. Int.]\n",
       "------------------------------------------------------------------------------\n",
       "Intercept      8.3640      0.118     70.876      0.000         8.131     8.597\n",
       "developing    -2.2347      0.282     -7.932      0.000        -2.791    -1.679\n",
       "==============================================================================\n",
       "Omnibus:                        2.219   Durbin-Watson:                   1.903\n",
       "Prob(Omnibus):                  0.330   Jarque-Bera (JB):                1.836\n",
       "Skew:                          -0.115   Prob(JB):                        0.399\n",
       "Kurtosis:                       2.547   Cond. No.                         2.72\n",
       "==============================================================================\n",
       "\n",
       "Warnings:\n",
       "[1] Standard Errors assume that the covariance matrix of the errors is correctly specified.\n",
       "\"\"\""
      ]
     },
     "execution_count": 38,
     "metadata": {},
     "output_type": "execute_result"
    }
   ],
   "source": [
    "# regressing log(GDP) on developing without controlling for literacy rate\n",
    "smf.ols(formula = 'logGDP ~ developing', data = gdp).fit().summary()"
   ]
  },
  {
   "cell_type": "markdown",
   "metadata": {},
   "source": [
    "e) Are both predictors significant?"
   ]
  },
  {
   "cell_type": "markdown",
   "metadata": {},
   "source": [
    "Your answer: **_No, `developing` is not significant. (p-value = 0.280)_**"
   ]
  },
  {
   "cell_type": "markdown",
   "metadata": {},
   "source": [
    "### Question 11\n",
    "\n",
    "Use the data in `data/iq.csv` to test if there is any significant difference in IQ scores among the four different regions in the US: South, Midwest, Northeast, West."
   ]
  },
  {
   "cell_type": "markdown",
   "metadata": {},
   "source": [
    "Your answer: \n",
    "\n",
    "$H_0: \\mu_S = \\mu_M = \\mu_N = \\mu_W$  \n",
    "\n",
    "$H_a$: at least one mean is different  \n",
    "\n"
   ]
  },
  {
   "cell_type": "code",
   "execution_count": 39,
   "metadata": {
    "collapsed": false
   },
   "outputs": [
    {
     "data": {
      "text/html": [
       "<div>\n",
       "<table border=\"1\" class=\"dataframe\">\n",
       "  <thead>\n",
       "    <tr style=\"text-align: right;\">\n",
       "      <th></th>\n",
       "      <th>State</th>\n",
       "      <th>IQ</th>\n",
       "      <th>Region</th>\n",
       "      <th>south</th>\n",
       "      <th>midwest</th>\n",
       "      <th>northeast</th>\n",
       "      <th>west</th>\n",
       "    </tr>\n",
       "  </thead>\n",
       "  <tbody>\n",
       "    <tr>\n",
       "      <th>0</th>\n",
       "      <td>Alabama</td>\n",
       "      <td>95.7</td>\n",
       "      <td>S</td>\n",
       "      <td>1</td>\n",
       "      <td>0</td>\n",
       "      <td>0</td>\n",
       "      <td>0</td>\n",
       "    </tr>\n",
       "    <tr>\n",
       "      <th>1</th>\n",
       "      <td>Alaska</td>\n",
       "      <td>99.0</td>\n",
       "      <td>W</td>\n",
       "      <td>0</td>\n",
       "      <td>0</td>\n",
       "      <td>0</td>\n",
       "      <td>1</td>\n",
       "    </tr>\n",
       "    <tr>\n",
       "      <th>2</th>\n",
       "      <td>Arizona</td>\n",
       "      <td>97.4</td>\n",
       "      <td>W</td>\n",
       "      <td>0</td>\n",
       "      <td>0</td>\n",
       "      <td>0</td>\n",
       "      <td>1</td>\n",
       "    </tr>\n",
       "    <tr>\n",
       "      <th>3</th>\n",
       "      <td>Arkansas</td>\n",
       "      <td>97.5</td>\n",
       "      <td>S</td>\n",
       "      <td>1</td>\n",
       "      <td>0</td>\n",
       "      <td>0</td>\n",
       "      <td>0</td>\n",
       "    </tr>\n",
       "    <tr>\n",
       "      <th>4</th>\n",
       "      <td>California</td>\n",
       "      <td>95.5</td>\n",
       "      <td>W</td>\n",
       "      <td>0</td>\n",
       "      <td>0</td>\n",
       "      <td>0</td>\n",
       "      <td>1</td>\n",
       "    </tr>\n",
       "  </tbody>\n",
       "</table>\n",
       "</div>"
      ],
      "text/plain": [
       "        State    IQ Region  south  midwest  northeast  west\n",
       "0     Alabama  95.7      S      1        0          0     0\n",
       "1      Alaska  99.0      W      0        0          0     1\n",
       "2     Arizona  97.4      W      0        0          0     1\n",
       "3    Arkansas  97.5      S      1        0          0     0\n",
       "4  California  95.5      W      0        0          0     1"
      ]
     },
     "execution_count": 39,
     "metadata": {},
     "output_type": "execute_result"
    }
   ],
   "source": [
    "iq = pd.read_csv('data/iq.csv')\n",
    "iq.head()"
   ]
  },
  {
   "cell_type": "code",
   "execution_count": 42,
   "metadata": {
    "collapsed": false
   },
   "outputs": [
    {
     "data": {
      "text/html": [
       "<table class=\"simpletable\">\n",
       "<caption>OLS Regression Results</caption>\n",
       "<tr>\n",
       "  <th>Dep. Variable:</th>           <td>IQ</td>        <th>  R-squared:         </th> <td>   0.407</td>\n",
       "</tr>\n",
       "<tr>\n",
       "  <th>Model:</th>                   <td>OLS</td>       <th>  Adj. R-squared:    </th> <td>   0.368</td>\n",
       "</tr>\n",
       "<tr>\n",
       "  <th>Method:</th>             <td>Least Squares</td>  <th>  F-statistic:       </th> <td>   10.51</td>\n",
       "</tr>\n",
       "<tr>\n",
       "  <th>Date:</th>             <td>Wed, 14 Oct 2015</td> <th>  Prob (F-statistic):</th> <td>2.21e-05</td>\n",
       "</tr>\n",
       "<tr>\n",
       "  <th>Time:</th>                 <td>12:30:00</td>     <th>  Log-Likelihood:    </th> <td> -107.21</td>\n",
       "</tr>\n",
       "<tr>\n",
       "  <th>No. Observations:</th>      <td>    50</td>      <th>  AIC:               </th> <td>   222.4</td>\n",
       "</tr>\n",
       "<tr>\n",
       "  <th>Df Residuals:</th>          <td>    46</td>      <th>  BIC:               </th> <td>   230.1</td>\n",
       "</tr>\n",
       "<tr>\n",
       "  <th>Df Model:</th>              <td>     3</td>      <th>                     </th>     <td> </td>   \n",
       "</tr>\n",
       "<tr>\n",
       "  <th>Covariance Type:</th>      <td>nonrobust</td>    <th>                     </th>     <td> </td>   \n",
       "</tr>\n",
       "</table>\n",
       "<table class=\"simpletable\">\n",
       "<tr>\n",
       "      <td></td>         <th>coef</th>     <th>std err</th>      <th>t</th>      <th>P>|t|</th> <th>[95.0% Conf. Int.]</th> \n",
       "</tr>\n",
       "<tr>\n",
       "  <th>Intercept</th> <td>   99.4385</td> <td>    0.597</td> <td>  166.526</td> <td> 0.000</td> <td>   98.236   100.640</td>\n",
       "</tr>\n",
       "<tr>\n",
       "  <th>south</th>     <td>   -1.3385</td> <td>    0.844</td> <td>   -1.585</td> <td> 0.120</td> <td>   -3.038     0.361</td>\n",
       "</tr>\n",
       "<tr>\n",
       "  <th>midwest</th>   <td>    2.5462</td> <td>    0.844</td> <td>    3.015</td> <td> 0.004</td> <td>    0.846     4.246</td>\n",
       "</tr>\n",
       "<tr>\n",
       "  <th>northeast</th> <td>    2.6888</td> <td>    0.882</td> <td>    3.048</td> <td> 0.004</td> <td>    0.913     4.464</td>\n",
       "</tr>\n",
       "</table>\n",
       "<table class=\"simpletable\">\n",
       "<tr>\n",
       "  <th>Omnibus:</th>       <td> 3.423</td> <th>  Durbin-Watson:     </th> <td>   1.991</td>\n",
       "</tr>\n",
       "<tr>\n",
       "  <th>Prob(Omnibus):</th> <td> 0.181</td> <th>  Jarque-Bera (JB):  </th> <td>   2.124</td>\n",
       "</tr>\n",
       "<tr>\n",
       "  <th>Skew:</th>          <td>-0.284</td> <th>  Prob(JB):          </th> <td>   0.346</td>\n",
       "</tr>\n",
       "<tr>\n",
       "  <th>Kurtosis:</th>      <td> 2.165</td> <th>  Cond. No.          </th> <td>    4.72</td>\n",
       "</tr>\n",
       "</table>"
      ],
      "text/plain": [
       "<class 'statsmodels.iolib.summary.Summary'>\n",
       "\"\"\"\n",
       "                            OLS Regression Results                            \n",
       "==============================================================================\n",
       "Dep. Variable:                     IQ   R-squared:                       0.407\n",
       "Model:                            OLS   Adj. R-squared:                  0.368\n",
       "Method:                 Least Squares   F-statistic:                     10.51\n",
       "Date:                Wed, 14 Oct 2015   Prob (F-statistic):           2.21e-05\n",
       "Time:                        12:30:00   Log-Likelihood:                -107.21\n",
       "No. Observations:                  50   AIC:                             222.4\n",
       "Df Residuals:                      46   BIC:                             230.1\n",
       "Df Model:                           3                                         \n",
       "Covariance Type:            nonrobust                                         \n",
       "==============================================================================\n",
       "                 coef    std err          t      P>|t|      [95.0% Conf. Int.]\n",
       "------------------------------------------------------------------------------\n",
       "Intercept     99.4385      0.597    166.526      0.000        98.236   100.640\n",
       "south         -1.3385      0.844     -1.585      0.120        -3.038     0.361\n",
       "midwest        2.5462      0.844      3.015      0.004         0.846     4.246\n",
       "northeast      2.6888      0.882      3.048      0.004         0.913     4.464\n",
       "==============================================================================\n",
       "Omnibus:                        3.423   Durbin-Watson:                   1.991\n",
       "Prob(Omnibus):                  0.181   Jarque-Bera (JB):                2.124\n",
       "Skew:                          -0.284   Prob(JB):                        0.346\n",
       "Kurtosis:                       2.165   Cond. No.                         4.72\n",
       "==============================================================================\n",
       "\n",
       "Warnings:\n",
       "[1] Standard Errors assume that the covariance matrix of the errors is correctly specified.\n",
       "\"\"\""
      ]
     },
     "execution_count": 42,
     "metadata": {},
     "output_type": "execute_result"
    }
   ],
   "source": [
    "formula = 'IQ ~ south + midwest + northeast'\n",
    "model11 = smf.ols(formula = formula, data = iq).fit()\n",
    "model11.summary()"
   ]
  },
  {
   "cell_type": "markdown",
   "metadata": {},
   "source": [
    "$F_{statistic} = 10.51$  \n",
    "\n",
    "$\\text{p-value} = 2.21e-05 < 0.05$  \n",
    "\n",
    "We reject the null and conclude that there is statistically significant different in IQ scores among the four regions."
   ]
  },
  {
   "cell_type": "markdown",
   "metadata": {},
   "source": [
    "### Question 12 \n",
    "\n",
    "You want to estimate the mean salary of the students graduated from the Data Science Immersive program. You asked around and obtained two people's salaries, 120k and 150k. Assuming that the salary of the graduates follows a Normal distribution with a standard deviation of 1k, give the maximum likelihood estimate of the mean salary."
   ]
  },
  {
   "cell_type": "markdown",
   "metadata": {},
   "source": [
    "Your answer: **_We can find MLE by either solving for it analytically or plotting the likelihood/log-likelihood and looking for the peak value._**"
   ]
  },
  {
   "cell_type": "markdown",
   "metadata": {},
   "source": [
    "**_Method 1._**\n",
    "\n",
    "$L(\\mu) = \\prod_{i=1}^2 \\frac{1}{\\sigma \\sqrt{2\\pi}} e^{-\\frac{(x_i - \\mu)^2}{2 \\sigma^2}} = \\prod_{i=1}^2 \\frac{1}{\\sqrt{2\\pi}} e^{-\\frac{(x_i - \\mu)^2}{2}}$  \n",
    "\n",
    "$l(\\mu) = \\sum_{i=1}^2 -\\frac{(x_i - \\mu)^2}{2}$  (Note: I dropped all the constant terms here since they do not contain $\\mu$ and therefore will not affect the MLE for $\\mu$)  \n",
    "\n",
    "Differentiate the log-likelihood function with respect to $\\mu$,  \n",
    "\n",
    "$\\frac{dl}{d\\mu} = \\sum_{i=1}^2 (x_i - \\mu) = 0$   \n",
    "\n",
    "Solve for $\\mu$,  \n",
    "\n",
    "$\\hat{\\mu} = \\frac{1}{2} \\sum_{i=1}^{2} x_i =  \\bar{x}$  \n",
    "\n",
    "We have $x_1 = 120, x_2 = 150$, so $\\hat{\\mu} = \\bar{x} = \\frac{120 + 150}{2} = 135$."
   ]
  },
  {
   "cell_type": "markdown",
   "metadata": {},
   "source": [
    "**_Method 2._**"
   ]
  },
  {
   "cell_type": "code",
   "execution_count": 44,
   "metadata": {
    "collapsed": false
   },
   "outputs": [
    {
     "name": "stdout",
     "output_type": "stream",
     "text": [
      "135 -226.837877066\n"
     ]
    },
    {
     "data": {
      "image/png": "[encoded data removed]",
      "text/plain": [
       "<matplotlib.figure.Figure at 0x10a71ec10>"
      ]
     },
     "metadata": {},
     "output_type": "display_data"
    }
   ],
   "source": [
    "def log_likelihood(x, mu, s):\n",
    "    return np.sum(np.log(ss.norm(mu, s).pdf(x)))\n",
    "\n",
    "x = np.array([120., 150.])\n",
    "mu = np.arange(100, 200)\n",
    "log_likelihoods = [log_likelihood(x, m, 1) for m in mu]\n",
    "plt.plot(mu, log_likelihoods)\n",
    "\n",
    "max_index = np.argmax(log_likelihoods)\n",
    "plt.axvline(x = mu[max_index])\n",
    "\n",
    "print mu[max_index], log_likelihoods[max_index]"
   ]
  },
  {
   "cell_type": "markdown",
   "metadata": {},
   "source": [
    "### Question 13 (Extra Credit)\n",
    "\n",
    "A group of physicians subjected the polygraph (or lie detector) to the same careful testing given to medical diagnostic tests. They found that if 1,000 people were subjected to the polygraph and 500 told the truth and 500 lied, the polygraph would indicate that 185 of the truth tellers were liars and that 120 of the liars were truth tellers (Discover, 1986). In the application of a polygraph test, an individual is presumed to be a truth teller ($H_0$) until “proven” a liar ($H_a$).  \n",
    "\n",
    "According to this study, what is the probability that a polygraph test will result in:  \n",
    "\n",
    "i. A type I error?  \n",
    "\n",
    "ii. A type II error?"
   ]
  },
  {
   "cell_type": "markdown",
   "metadata": {},
   "source": [
    "Your answer:  \n",
    "\n",
    "* **_P(type I error) = 185/500_**  \n",
    "\n",
    "* **_P(type II error) = 120/500_**"
   ]
  }
 ],
 "metadata": {
  "kernelspec": {
   "display_name": "Python 2",
   "language": "python",
   "name": "python2"
  },
  "language_info": {
   "codemirror_mode": {
    "name": "ipython",
    "version": 2
   },
   "file_extension": ".py",
   "mimetype": "text/x-python",
   "name": "python",
   "nbconvert_exporter": "python",
   "pygments_lexer": "ipython2",
   "version": "2.7.10"
  }
 },
 "nbformat": 4,
 "nbformat_minor": 0
}
