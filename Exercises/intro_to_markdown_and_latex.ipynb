{
 "cells": [
  {
   "cell_type": "markdown",
   "metadata": {},
   "source": [
    "#headline\n",
    "\n",
    "###shorter healine\n"
   ]
  },
  {
   "cell_type": "markdown",
   "metadata": {},
   "source": [
    "This is an equation \n",
    "\n",
    "$$4 x^2+ 4y =0$$"
   ]
  },
  {
   "cell_type": "markdown",
   "metadata": {},
   "source": [
    "This is inline math $x^{2+z}+y$."
   ]
  },
  {
   "cell_type": "markdown",
   "metadata": {},
   "source": [
    "subscript and superscript\n",
    "\n",
    "$$x^2$$\n",
    "\n",
    "$$x_i$$\n",
    "\n",
    "$$x^{a+b}$$\n",
    "\n",
    "$$x_{ij}$$"
   ]
  },
  {
   "cell_type": "markdown",
   "metadata": {},
   "source": [
    "writing matrix\n",
    "\n",
    "$${\\bf A} = \\left[ \\begin{matrix} \n",
    "               2 & 3 & 10 \\\\ 4 & 5 & 11 \\\\ 3 & 6 & 2\n",
    "             \\end{matrix} \\right]$$"
   ]
  },
  {
   "cell_type": "markdown",
   "metadata": {},
   "source": [
    "greek letters\n",
    "\n",
    "$$\\alpha, \\beta, \\gamma, \\Omega$$"
   ]
  },
  {
   "cell_type": "markdown",
   "metadata": {},
   "source": [
    "Sequences:\n",
    "\n",
    "$$a_1, a_2, \\cdots, a_n$$\n",
    "\n",
    "$$x_1 + x_2 + \\cdots + x_n$$"
   ]
  },
  {
   "cell_type": "markdown",
   "metadata": {},
   "source": [
    "Fractions:\n",
    "\n",
    "$$\\frac{5}{6}$$\n",
    "\n",
    "$$ \\frac{number \\ of \\ ways \\ of \\ selecting \\ 3 \\ out \\ 5}{4}$$\n",
    "\n",
    "$$\\frac{x}{y}$$"
   ]
  },
  {
   "cell_type": "markdown",
   "metadata": {},
   "source": [
    "square root\n",
    "\n",
    "$$\\sqrt{x + y}$$"
   ]
  },
  {
   "cell_type": "markdown",
   "metadata": {},
   "source": [
    "summation\n",
    "\n",
    "$$s = \\sum_{i=1}^{n} x_i$$"
   ]
  },
  {
   "cell_type": "markdown",
   "metadata": {},
   "source": [
    "How to wrtie accents:\n",
    "\n",
    "$$\\hat{y}, \\bar{y}, \\vec{y}$$"
   ]
  },
  {
   "cell_type": "markdown",
   "metadata": {},
   "source": [
    "bullets and numbers:\n",
    "\n",
    "1. this line 1\n",
    "1. tnis line 2  \n",
    "\n",
    "\n",
    "- line 1\n",
    "- line 2"
   ]
  },
  {
   "cell_type": "markdown",
   "metadata": {},
   "source": [
    "tabels\n",
    "\n",
    "|a|b|c|\n",
    "|----|----|----|\n",
    "|1|1+9+10|1|\n",
    "|2|4|3|\n",
    "|3|9|5|"
   ]
  },
  {
   "cell_type": "code",
   "execution_count": null,
   "metadata": {
    "collapsed": true
   },
   "outputs": [],
   "source": []
  }
 ],
 "metadata": {
  "kernelspec": {
   "display_name": "Python 2",
   "language": "python",
   "name": "python2"
  },
  "language_info": {
   "codemirror_mode": {
    "name": "ipython",
    "version": 2
   },
   "file_extension": ".py",
   "mimetype": "text/x-python",
   "name": "python",
   "nbconvert_exporter": "python",
   "pygments_lexer": "ipython2",
   "version": "2.7.10"
  }
 },
 "nbformat": 4,
 "nbformat_minor": 0
}
