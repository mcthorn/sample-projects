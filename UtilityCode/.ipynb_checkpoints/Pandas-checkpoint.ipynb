{
 "cells": [
  {
   "cell_type": "code",
   "execution_count": null,
   "metadata": {},
   "outputs": [],
   "source": [
    "df.loc[df['favorite_color'] == 'yellow']\n",
    "df_orgs_all.loc[df_orgs_all['_id'] == '57e05e0de3874f121d51661d']['address'][0] # sometimes the nesting gets weird "
   ]
  },
  {
   "cell_type": "code",
   "execution_count": null,
   "metadata": {},
   "outputs": [],
   "source": [
    "#To select rows whose column value is in an iterable array, which we'll define as array, you can use isin:\n",
    "array = ['yellow', 'green']\n",
    "df.loc[df['favorite_color'].isin(array)]"
   ]
  },
  {
   "cell_type": "code",
   "execution_count": null,
   "metadata": {},
   "outputs": [],
   "source": [
    "#To select a row based on multiple conditions you can use &:\n",
    "array = ['yellow', 'green']\n",
    "df.loc[(df['age'] == 21) & df['favorite_color'].isin(array)]"
   ]
  },
  {
   "cell_type": "code",
   "execution_count": null,
   "metadata": {},
   "outputs": [],
   "source": [
    "#To select rows where a column value does not equal a value, use !=:\n",
    "df.loc[df['favorite_color'] != 'yellow']"
   ]
  },
  {
   "cell_type": "code",
   "execution_count": null,
   "metadata": {},
   "outputs": [],
   "source": [
    "#To return a rows where column value is not in an iterable array, use ~ in front of df:\n",
    "array = ['yellow', 'green']\n",
    "df.loc[~df['favorite_color'].isin(array)]"
   ]
  },
  {
   "cell_type": "code",
   "execution_count": null,
   "metadata": {},
   "outputs": [],
   "source": [
    "# new row based on function\n",
    "df['address']= df.apply(lambda row: address_cleaner(row['Address'], row['Zip']), axis=1)"
   ]
  }
 ],
 "metadata": {
  "kernelspec": {
   "display_name": "Python 3",
   "language": "python",
   "name": "python3"
  },
  "language_info": {
   "codemirror_mode": {
    "name": "ipython",
    "version": 3
   },
   "file_extension": ".py",
   "mimetype": "text/x-python",
   "name": "python",
   "nbconvert_exporter": "python",
   "pygments_lexer": "ipython3",
   "version": "3.6.5"
  }
 },
 "nbformat": 4,
 "nbformat_minor": 2
}
